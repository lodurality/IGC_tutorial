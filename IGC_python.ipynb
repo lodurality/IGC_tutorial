{
 "cells": [
  {
   "cell_type": "markdown",
   "metadata": {
    "nbpresent": {
     "id": "cc0e8752-ef77-4c2a-a85f-06cad83c75f8"
    }
   },
   "source": [
    "# Python data analysis libraries: pandas, sklearn and keras\n",
    "\n",
    "### Dmitry Petrov\n",
    "\n",
    "#### January 11"
   ]
  },
  {
   "cell_type": "markdown",
   "metadata": {
    "nbpresent": {
     "id": "487dcd59-a299-45a1-b5f1-faa979bed68e"
    }
   },
   "source": [
    "### Main goal of this tutorial is to share my experience of using particular python libraries for machine learning/data analysis and provide brief intro into them"
   ]
  },
  {
   "cell_type": "markdown",
   "metadata": {
    "nbpresent": {
     "id": "95c3ae9f-977a-4098-8972-0e7ffacbe1f4"
    }
   },
   "source": [
    "### 0. Contents\n",
    "\n",
    "#### Part 1. Overview\n",
    "1. <a href = '#python'>Python pros and cons</a>\n",
    "2. <a href = '#libs'>Relevant python libraries for data analysis</a>\n",
    "3. <a href = '#jupyter'>Jupyter</a>\n",
    "4. <a href = '#pandas'>Pandas</a>\n",
    "5. <a href = '#sklearn'>Sklearn</a>\n",
    "5. <a href = '#sklearn'>Keras</a>\n"
   ]
  },
  {
   "cell_type": "markdown",
   "metadata": {
    "nbpresent": {
     "id": "5bb6676c-88a4-4778-8591-987c9ef4bca2"
    }
   },
   "source": [
    "### 0. Contents\n",
    "\n",
    "#### Part 2. Practical tuorial\n",
    "6. <a href='#jupyter bash'>Jupyter bash interface</a>\n",
    "7. <a href='#eda'>Exploratory data analysis with pandas, seaborn and matplotlib</a>\n",
    "8. <a href='#sklearn'>Machine learning with scikit-learn on MNIST</a>\n",
    "9. <a href='#keras'>Deep learning with Keras on MNIST</a>\n"
   ]
  },
  {
   "cell_type": "markdown",
   "metadata": {
    "nbpresent": {
     "id": "6183dbc8-92e8-4d5a-8265-13355de44a31"
    }
   },
   "source": [
    "# Part 1. Overview"
   ]
  },
  {
   "cell_type": "markdown",
   "metadata": {
    "nbpresent": {
     "id": "8d49a8d0-c816-4c55-9e67-9747ab69582b"
    }
   },
   "source": [
    "<a id='python'></a>\n",
    "## 1.Python pros and cons\n",
    "\n",
    "+ good for both prototyping and production <br>\n",
    "+ lot of scientific, data analysis and big data libraries with a lot of synergy <br>\n",
    "+ open source project with huge community (i.e. cheap + great knowledge base + a lot of tutorials + \n",
    "possibility to tweak algorithms for your own purposes) <br> \n",
    "+ objective oriented <br>\n",
    "+ somewhat slow (but a lot of fast libraries in C++ do have python interfaces and also there is Cython if you care) <br>\n",
    "+ python 2.X and 3.X conflict issues (more relevant for neuroscience, can be solved by virtual environments) <br> \n",
    "+ bad visualization tools (I disagree, but some people mention it) <br>"
   ]
  },
  {
   "cell_type": "markdown",
   "metadata": {
    "nbpresent": {
     "id": "01c3610f-757b-4671-a821-80e1846bb2e7"
    }
   },
   "source": [
    "<a id='libs'></a>\n",
    "\n",
    "## 2. Relevant python libraries for data analysis\n",
    "\n",
    "\n",
    " * scipy, numpy for fast scientific computing: linear algebra, statistics\n",
    " \n",
    " * **pandas** for data preprocessing and exploratory analysis\n",
    "\n",
    " * **jupyter** for interactive data analysis and prototyping\n",
    " \n",
    " * **matplotlib**, **seaborn** for visualization\n",
    " \n",
    " * **scikit-learn**, shogun, xgboost for machine learning \n",
    " \n",
    " * **keras**, lasagne, mxnet, theano, tensorflow for deep learning\n",
    " \n",
    " * networkX (slow, okay interface), igraph (fast, bad interface), graph-tool, brain connectivity toolbox for graph analysis"
   ]
  },
  {
   "cell_type": "markdown",
   "metadata": {
    "nbpresent": {
     "id": "f5a84a06-5261-407b-ad54-3eec1ea965c0"
    }
   },
   "source": [
    "<a id='jupyter'></a>\n",
    "\n",
    "## 3. Jupyter\n",
    "\n",
    "#### Interactive environment for prototyping and exploratory data analysis\n",
    "\n",
    "\n",
    "+ ability to run code in different cells with same variables\n",
    "+ customizable\n",
    "+ can be run remotely\n",
    "+ you can use different kernels (virtual environments)\n",
    "+ results can be presented without running the code (similar to R markdown)\n",
    "+ great for prototyping\n",
    "+ 'magic' functions\n",
    "+ compatible with R, Python, Julia\n",
    "+ supports $\\LaTeX$\n"
   ]
  },
  {
   "cell_type": "markdown",
   "metadata": {
    "nbpresent": {
     "id": "7ac43dc8-3ca1-4467-a5d1-91118c3270c7"
    }
   },
   "source": [
    "<a id='pandas'></a>\n",
    "\n",
    "## 4. Pandas\n",
    "\n",
    "\n",
    "#### Python library for exploratory data analysis and data processing\n",
    "\n",
    "\n",
    "+ powerful data structures (dataframe, panel)\n",
    "+ fast built-in funtions for data processing and analysis\n",
    "+ compatibility with lot of data formats\n",
    "+ compatible with sklearn\n",
    "+ can be slow if you don't use built-in functions\n",
    "+ feels kinda clunky when you start to learn it"
   ]
  },
  {
   "cell_type": "markdown",
   "metadata": {
    "nbpresent": {
     "id": "b20cc52d-7610-4d63-8621-b097e8f138cb"
    }
   },
   "source": [
    "<a id='sklearn'></a>\n",
    "\n",
    "## 5. Sklearn: main features\n",
    "\n",
    "\n",
    "#### Swiss army knife for machine learning\n",
    "\n",
    "\n",
    "+ great architecture, interface and documentation\n",
    "+ wide variety of tools for predictive modelling, dimensionality reduction, validation and preprocessing\n",
    "+ fully reproducible\n",
    "+ parallelization in terms of multi-threading\n",
    "+ implementations of some models are slow or memory inefficient\n",
    "+ there is no parallelization for grid computing (not that I know of)"
   ]
  },
  {
   "cell_type": "markdown",
   "metadata": {
    "nbpresent": {
     "id": "47646988-450e-4240-8861-4ff01eab7647"
    }
   },
   "source": [
    "<a id='sklearn'></a>\n",
    "\n",
    "## 5. Sklearn: structure \n",
    "\n",
    "+ **cluster.** Clustering methods (k-means, spectral clustering, DBSCAN)\n",
    "+ **model_selection.** Validation tools\n",
    "+ **decomposition.** Matrix decomposotion tools like SVD or PCA\n",
    "+ **ensemble.** Ensemble methods like Random Forest, bagging classifiers or Adaboost\n",
    "+ **feature_selection.** Feature selection tools like univariate test or recursive feature elimination\n",
    "+ **linear_model.** Linear models and tools\n",
    "+ **manifold.** Non-linear dimensionality reduction methods\n",
    "+ **metrics.** Metrics for validationg and analysing models\n",
    "+ **neighbors.** Nearest neighbors models and tools\n",
    "+ **pipeline.** Tool for chaining data analysis steps\n",
    "+ **svm.** Support Vector Machines methods\n",
    "+ **preprocessing.** Data preprocessing tools\n",
    "\n"
   ]
  },
  {
   "cell_type": "markdown",
   "metadata": {
    "nbpresent": {
     "id": "b79e8e0e-de09-4c0a-8ec2-7ee94089195f"
    }
   },
   "source": [
    "<a id='keras'></a>\n",
    "\n",
    "## 6. Keras\n",
    "\n",
    "\n",
    "#### Minimalistic and powerful tool for deep learning with support of different backends\n",
    "\n",
    "+ high level of abstraction\n",
    "+ great interface \n",
    "+ great documentation and examples\n",
    "+ supporst both theano and tensorflow\n",
    "+ for advanced stuff (i.e. your own layers) requires knowledge of theano or tensrflow\n",
    "+ somewhat slow in reaction to backend sudden changes"
   ]
  },
  {
   "cell_type": "markdown",
   "metadata": {
    "nbpresent": {
     "id": "b3a6d1f1-211d-4b82-b6d7-da76817d8ee5"
    }
   },
   "source": [
    "# Part 2. Practical tutorial"
   ]
  },
  {
   "cell_type": "markdown",
   "metadata": {
    "nbpresent": {
     "id": "73f3d057-6301-40ab-9b6a-16ec66936383"
    }
   },
   "source": [
    "<a id='jupyter bash'></a>\n",
    "\n",
    "## 1. Jupyter bash interface"
   ]
  },
  {
   "cell_type": "code",
   "execution_count": 1,
   "metadata": {
    "collapsed": false,
    "nbpresent": {
     "id": "939a21e0-6e30-4a1f-a7c2-4131849c699c"
    }
   },
   "outputs": [
    {
     "name": "stdout",
     "output_type": "stream",
     "text": [
      "/home/deaddy/Repos/IGC python tutorial\r\n"
     ]
    }
   ],
   "source": [
    "! pwd"
   ]
  },
  {
   "cell_type": "code",
   "execution_count": 2,
   "metadata": {
    "collapsed": false,
    "nbpresent": {
     "id": "ab5edad8-22ed-45ac-92fc-341c00130632"
    }
   },
   "outputs": [
    {
     "name": "stdout",
     "output_type": "stream",
     "text": [
      "data  IGC_python.ipynb\tIGC_python.slides.html\tscripts\r\n"
     ]
    }
   ],
   "source": [
    "! ls"
   ]
  },
  {
   "cell_type": "code",
   "execution_count": 194,
   "metadata": {
    "collapsed": false,
    "nbpresent": {
     "id": "29a0e017-5bba-4e47-8bdf-f6f55b91c5cf"
    }
   },
   "outputs": [
    {
     "name": "stdout",
     "output_type": "stream",
     "text": [
      ".  ..  HCP_metadata.csv  houses_test.csv  houses_train.csv  mldata\r\n"
     ]
    }
   ],
   "source": [
    "! ls -a data"
   ]
  },
  {
   "cell_type": "code",
   "execution_count": 195,
   "metadata": {
    "collapsed": false,
    "nbpresent": {
     "id": "06678d45-1241-4e0b-a579-325079587058"
    }
   },
   "outputs": [
    {
     "name": "stdout",
     "output_type": "stream",
     "text": [
      ".  ..  hello.py  hello.sh\r\n"
     ]
    }
   ],
   "source": [
    "! ls -a scripts"
   ]
  },
  {
   "cell_type": "code",
   "execution_count": 5,
   "metadata": {
    "collapsed": false,
    "nbpresent": {
     "id": "ceff14ca-6ef2-4585-95f7-d30f559fe66e"
    }
   },
   "outputs": [
    {
     "name": "stdout",
     "output_type": "stream",
     "text": [
      "#!/bin/bash\r\n",
      "\r\n",
      "echo 'This is shell script running'\r\n",
      "echo\r\n",
      "echo 'Shell python version'\r\n",
      "python -c 'import sys; print(sys.version)'\r\n",
      "echo 'Running python script'\r\n",
      "echo\r\n",
      "echo '--------------------'\r\n",
      "echo\r\n",
      "source activate neuropy\r\n",
      "python scripts/hello.py\r\n",
      "source deactivate neuropy\r\n",
      "echo\r\n",
      "echo '--------------------'\r\n",
      "echo\r\n",
      "echo 'This is shell script again. Bye!'\r\n"
     ]
    }
   ],
   "source": [
    "! cat scripts/hello.sh"
   ]
  },
  {
   "cell_type": "code",
   "execution_count": 6,
   "metadata": {
    "collapsed": false,
    "nbpresent": {
     "id": "6d5275b5-a9b8-40e0-8ccb-6499e69da283"
    }
   },
   "outputs": [
    {
     "name": "stdout",
     "output_type": "stream",
     "text": [
      "from __future__ import print_function\r\n",
      "import sys\r\n",
      "import os\r\n",
      "\r\n",
      "print('\\tThis is python script running. \\n')\r\n",
      "\r\n",
      "print('\\tPython version: ', sys.version)\r\n",
      "print('\\tThis is python script finishing work. Bye')\r\n"
     ]
    }
   ],
   "source": [
    "! cat scripts/hello.py"
   ]
  },
  {
   "cell_type": "code",
   "execution_count": 7,
   "metadata": {
    "collapsed": false,
    "nbpresent": {
     "id": "33e1bb23-11ad-4cd5-9baa-004209e13edf"
    }
   },
   "outputs": [
    {
     "name": "stdout",
     "output_type": "stream",
     "text": [
      "This is shell script running\n",
      "\n",
      "Shell python version\n",
      "3.5.1 |Anaconda custom (64-bit)| (default, Dec  7 2015, 11:16:01) \n",
      "[GCC 4.4.7 20120313 (Red Hat 4.4.7-1)]\n",
      "Running python script\n",
      "\n",
      "--------------------\n",
      "\n",
      "\tThis is python script running. \n",
      "\n",
      "\tPython version:  2.7.12 |Anaconda custom (64-bit)| (default, Jul  2 2016, 17:42:40) \n",
      "[GCC 4.4.7 20120313 (Red Hat 4.4.7-1)]\n",
      "\tThis is python script finishing work. Bye\n",
      "\n",
      "--------------------\n",
      "\n",
      "This is shell script again. Bye!\n"
     ]
    }
   ],
   "source": [
    "! bash scripts/hello.sh"
   ]
  },
  {
   "cell_type": "code",
   "execution_count": 8,
   "metadata": {
    "collapsed": false,
    "nbpresent": {
     "id": "e346f888-90d1-4f78-a2d0-043d90fe1ab3"
    }
   },
   "outputs": [
    {
     "name": "stdout",
     "output_type": "stream",
     "text": [
      "3.5.1 |Anaconda custom (64-bit)| (default, Dec  7 2015, 11:16:01) \n",
      "[GCC 4.4.7 20120313 (Red Hat 4.4.7-1)]\n"
     ]
    }
   ],
   "source": [
    "import sys\n",
    "\n",
    "print(sys.version)"
   ]
  },
  {
   "cell_type": "markdown",
   "metadata": {
    "collapsed": true,
    "nbpresent": {
     "id": "d4480c2c-b796-47de-8093-c8596c5a9a4d"
    }
   },
   "source": [
    "<a id='pandas'></a>\n",
    "\n",
    "## 2. Exploratory data analysis with pandas, jupyter, matplotlib and seaborn\n",
    "\n",
    "\n",
    "\n"
   ]
  },
  {
   "cell_type": "code",
   "execution_count": 204,
   "metadata": {
    "collapsed": true,
    "nbpresent": {
     "id": "24815ff4-8bf4-4b36-9126-a648a7df7800"
    }
   },
   "outputs": [],
   "source": [
    "import pandas as pd\n",
    "import matplotlib.pyplot as plt\n",
    "import seaborn as sns\n",
    "from sklearn.datasets import load_digits\n",
    "%matplotlib inline"
   ]
  },
  {
   "cell_type": "markdown",
   "metadata": {
    "nbpresent": {
     "id": "1a7e46c7-26f9-4f5d-b4bd-136a57b12b95"
    }
   },
   "source": [
    "### Example 1: houses data from Kaggle"
   ]
  },
  {
   "cell_type": "code",
   "execution_count": 205,
   "metadata": {
    "collapsed": false,
    "nbpresent": {
     "id": "1fd1a6f0-30dd-4218-89f0-25d7044711ec"
    }
   },
   "outputs": [
    {
     "data": {
      "text/plain": [
       "(1460, 80)"
      ]
     },
     "execution_count": 205,
     "metadata": {},
     "output_type": "execute_result"
    }
   ],
   "source": [
    "houses = pd.read_csv('data/houses_train.csv', index_col = 0)\n",
    "houses.shape"
   ]
  },
  {
   "cell_type": "code",
   "execution_count": 206,
   "metadata": {
    "collapsed": false,
    "nbpresent": {
     "id": "1ff525fd-c41e-48b4-b168-aeb76cc31bb2"
    }
   },
   "outputs": [
    {
     "data": {
      "text/html": [
       "<div>\n",
       "<table border=\"1\" class=\"dataframe\">\n",
       "  <thead>\n",
       "    <tr style=\"text-align: right;\">\n",
       "      <th></th>\n",
       "      <th>MSSubClass</th>\n",
       "      <th>MSZoning</th>\n",
       "      <th>LotFrontage</th>\n",
       "      <th>LotArea</th>\n",
       "      <th>Street</th>\n",
       "      <th>Alley</th>\n",
       "      <th>LotShape</th>\n",
       "      <th>LandContour</th>\n",
       "      <th>Utilities</th>\n",
       "      <th>LotConfig</th>\n",
       "      <th>...</th>\n",
       "      <th>PoolArea</th>\n",
       "      <th>PoolQC</th>\n",
       "      <th>Fence</th>\n",
       "      <th>MiscFeature</th>\n",
       "      <th>MiscVal</th>\n",
       "      <th>MoSold</th>\n",
       "      <th>YrSold</th>\n",
       "      <th>SaleType</th>\n",
       "      <th>SaleCondition</th>\n",
       "      <th>SalePrice</th>\n",
       "    </tr>\n",
       "    <tr>\n",
       "      <th>Id</th>\n",
       "      <th></th>\n",
       "      <th></th>\n",
       "      <th></th>\n",
       "      <th></th>\n",
       "      <th></th>\n",
       "      <th></th>\n",
       "      <th></th>\n",
       "      <th></th>\n",
       "      <th></th>\n",
       "      <th></th>\n",
       "      <th></th>\n",
       "      <th></th>\n",
       "      <th></th>\n",
       "      <th></th>\n",
       "      <th></th>\n",
       "      <th></th>\n",
       "      <th></th>\n",
       "      <th></th>\n",
       "      <th></th>\n",
       "      <th></th>\n",
       "      <th></th>\n",
       "    </tr>\n",
       "  </thead>\n",
       "  <tbody>\n",
       "    <tr>\n",
       "      <th>1</th>\n",
       "      <td>60</td>\n",
       "      <td>RL</td>\n",
       "      <td>65.0</td>\n",
       "      <td>8450</td>\n",
       "      <td>Pave</td>\n",
       "      <td>NaN</td>\n",
       "      <td>Reg</td>\n",
       "      <td>Lvl</td>\n",
       "      <td>AllPub</td>\n",
       "      <td>Inside</td>\n",
       "      <td>...</td>\n",
       "      <td>0</td>\n",
       "      <td>NaN</td>\n",
       "      <td>NaN</td>\n",
       "      <td>NaN</td>\n",
       "      <td>0</td>\n",
       "      <td>2</td>\n",
       "      <td>2008</td>\n",
       "      <td>WD</td>\n",
       "      <td>Normal</td>\n",
       "      <td>208500</td>\n",
       "    </tr>\n",
       "    <tr>\n",
       "      <th>2</th>\n",
       "      <td>20</td>\n",
       "      <td>RL</td>\n",
       "      <td>80.0</td>\n",
       "      <td>9600</td>\n",
       "      <td>Pave</td>\n",
       "      <td>NaN</td>\n",
       "      <td>Reg</td>\n",
       "      <td>Lvl</td>\n",
       "      <td>AllPub</td>\n",
       "      <td>FR2</td>\n",
       "      <td>...</td>\n",
       "      <td>0</td>\n",
       "      <td>NaN</td>\n",
       "      <td>NaN</td>\n",
       "      <td>NaN</td>\n",
       "      <td>0</td>\n",
       "      <td>5</td>\n",
       "      <td>2007</td>\n",
       "      <td>WD</td>\n",
       "      <td>Normal</td>\n",
       "      <td>181500</td>\n",
       "    </tr>\n",
       "    <tr>\n",
       "      <th>3</th>\n",
       "      <td>60</td>\n",
       "      <td>RL</td>\n",
       "      <td>68.0</td>\n",
       "      <td>11250</td>\n",
       "      <td>Pave</td>\n",
       "      <td>NaN</td>\n",
       "      <td>IR1</td>\n",
       "      <td>Lvl</td>\n",
       "      <td>AllPub</td>\n",
       "      <td>Inside</td>\n",
       "      <td>...</td>\n",
       "      <td>0</td>\n",
       "      <td>NaN</td>\n",
       "      <td>NaN</td>\n",
       "      <td>NaN</td>\n",
       "      <td>0</td>\n",
       "      <td>9</td>\n",
       "      <td>2008</td>\n",
       "      <td>WD</td>\n",
       "      <td>Normal</td>\n",
       "      <td>223500</td>\n",
       "    </tr>\n",
       "    <tr>\n",
       "      <th>4</th>\n",
       "      <td>70</td>\n",
       "      <td>RL</td>\n",
       "      <td>60.0</td>\n",
       "      <td>9550</td>\n",
       "      <td>Pave</td>\n",
       "      <td>NaN</td>\n",
       "      <td>IR1</td>\n",
       "      <td>Lvl</td>\n",
       "      <td>AllPub</td>\n",
       "      <td>Corner</td>\n",
       "      <td>...</td>\n",
       "      <td>0</td>\n",
       "      <td>NaN</td>\n",
       "      <td>NaN</td>\n",
       "      <td>NaN</td>\n",
       "      <td>0</td>\n",
       "      <td>2</td>\n",
       "      <td>2006</td>\n",
       "      <td>WD</td>\n",
       "      <td>Abnorml</td>\n",
       "      <td>140000</td>\n",
       "    </tr>\n",
       "    <tr>\n",
       "      <th>5</th>\n",
       "      <td>60</td>\n",
       "      <td>RL</td>\n",
       "      <td>84.0</td>\n",
       "      <td>14260</td>\n",
       "      <td>Pave</td>\n",
       "      <td>NaN</td>\n",
       "      <td>IR1</td>\n",
       "      <td>Lvl</td>\n",
       "      <td>AllPub</td>\n",
       "      <td>FR2</td>\n",
       "      <td>...</td>\n",
       "      <td>0</td>\n",
       "      <td>NaN</td>\n",
       "      <td>NaN</td>\n",
       "      <td>NaN</td>\n",
       "      <td>0</td>\n",
       "      <td>12</td>\n",
       "      <td>2008</td>\n",
       "      <td>WD</td>\n",
       "      <td>Normal</td>\n",
       "      <td>250000</td>\n",
       "    </tr>\n",
       "  </tbody>\n",
       "</table>\n",
       "<p>5 rows × 80 columns</p>\n",
       "</div>"
      ],
      "text/plain": [
       "    MSSubClass MSZoning  LotFrontage  LotArea Street Alley LotShape  \\\n",
       "Id                                                                    \n",
       "1           60       RL         65.0     8450   Pave   NaN      Reg   \n",
       "2           20       RL         80.0     9600   Pave   NaN      Reg   \n",
       "3           60       RL         68.0    11250   Pave   NaN      IR1   \n",
       "4           70       RL         60.0     9550   Pave   NaN      IR1   \n",
       "5           60       RL         84.0    14260   Pave   NaN      IR1   \n",
       "\n",
       "   LandContour Utilities LotConfig    ...     PoolArea PoolQC Fence  \\\n",
       "Id                                    ...                             \n",
       "1          Lvl    AllPub    Inside    ...            0    NaN   NaN   \n",
       "2          Lvl    AllPub       FR2    ...            0    NaN   NaN   \n",
       "3          Lvl    AllPub    Inside    ...            0    NaN   NaN   \n",
       "4          Lvl    AllPub    Corner    ...            0    NaN   NaN   \n",
       "5          Lvl    AllPub       FR2    ...            0    NaN   NaN   \n",
       "\n",
       "   MiscFeature MiscVal MoSold  YrSold  SaleType  SaleCondition  SalePrice  \n",
       "Id                                                                         \n",
       "1          NaN       0      2    2008        WD         Normal     208500  \n",
       "2          NaN       0      5    2007        WD         Normal     181500  \n",
       "3          NaN       0      9    2008        WD         Normal     223500  \n",
       "4          NaN       0      2    2006        WD        Abnorml     140000  \n",
       "5          NaN       0     12    2008        WD         Normal     250000  \n",
       "\n",
       "[5 rows x 80 columns]"
      ]
     },
     "execution_count": 206,
     "metadata": {},
     "output_type": "execute_result"
    }
   ],
   "source": [
    "houses.head()"
   ]
  },
  {
   "cell_type": "code",
   "execution_count": 207,
   "metadata": {
    "collapsed": false,
    "nbpresent": {
     "id": "fa67218f-68e2-45e8-8850-069f3600e36b"
    }
   },
   "outputs": [
    {
     "data": {
      "text/plain": [
       "MSSubClass     False\n",
       "MSZoning       False\n",
       "LotFrontage     True\n",
       "LotArea        False\n",
       "Street         False\n",
       "Alley           True\n",
       "LotShape       False\n",
       "LandContour    False\n",
       "Utilities      False\n",
       "LotConfig      False\n",
       "dtype: bool"
      ]
     },
     "execution_count": 207,
     "metadata": {},
     "output_type": "execute_result"
    }
   ],
   "source": [
    "houses.isnull().any()[:10]"
   ]
  },
  {
   "cell_type": "code",
   "execution_count": 208,
   "metadata": {
    "collapsed": false,
    "nbpresent": {
     "id": "9d8bc161-76bf-46c6-9a32-f892ad1c5d8d"
    }
   },
   "outputs": [
    {
     "data": {
      "text/plain": [
       "<matplotlib.axes._subplots.AxesSubplot at 0x7fc784ae2438>"
      ]
     },
     "execution_count": 208,
     "metadata": {},
     "output_type": "execute_result"
    },
    {
     "data": {
      "image/png": "[encoded data removed]",
      "text/plain": [
       "<matplotlib.figure.Figure at 0x7fc784ae2ba8>"
      ]
     },
     "metadata": {},
     "output_type": "display_data"
    }
   ],
   "source": [
    "sns.regplot(houses.LotArea, houses.SalePrice)"
   ]
  },
  {
   "cell_type": "code",
   "execution_count": 209,
   "metadata": {
    "collapsed": false,
    "nbpresent": {
     "id": "72a315bd-88e9-4439-a1de-84f059f2a113"
    }
   },
   "outputs": [
    {
     "data": {
      "text/plain": [
       "<matplotlib.collections.PathCollection at 0x7fc784a05588>"
      ]
     },
     "execution_count": 209,
     "metadata": {},
     "output_type": "execute_result"
    },
    {
     "data": {
      "image/png": "[encoded data removed]",
      "text/plain": [
       "<matplotlib.figure.Figure at 0x7fc784aefdd8>"
      ]
     },
     "metadata": {},
     "output_type": "display_data"
    }
   ],
   "source": [
    "plt.scatter(houses.LotArea, houses.SalePrice)"
   ]
  },
  {
   "cell_type": "code",
   "execution_count": 210,
   "metadata": {
    "collapsed": false,
    "nbpresent": {
     "id": "fe4d6a1c-f930-400b-9890-328b0cd53705"
    }
   },
   "outputs": [
    {
     "data": {
      "text/plain": [
       "<matplotlib.axes._subplots.AxesSubplot at 0x7fc784a5ca90>"
      ]
     },
     "execution_count": 210,
     "metadata": {},
     "output_type": "execute_result"
    },
    {
     "data": {
      "image/png": "[encoded data removed]",
      "text/plain": [
       "<matplotlib.figure.Figure at 0x7fc784a26cc0>"
      ]
     },
     "metadata": {},
     "output_type": "display_data"
    }
   ],
   "source": [
    "sns.regplot(houses.TotalBsmtSF, houses.SalePrice)"
   ]
  },
  {
   "cell_type": "code",
   "execution_count": 211,
   "metadata": {
    "collapsed": false,
    "nbpresent": {
     "id": "359f23e1-4619-4177-a447-695cf538b5be"
    }
   },
   "outputs": [
    {
     "name": "stderr",
     "output_type": "stream",
     "text": [
      "/home/deaddy/.local/lib/python3.5/site-packages/statsmodels/nonparametric/kdetools.py:20: VisibleDeprecationWarning: using a non-integer number instead of an integer will result in an error in the future\n",
      "  y = X[:m/2+1] + np.r_[0,X[m/2+1:],0]*1j\n"
     ]
    },
    {
     "data": {
      "text/plain": [
       "<matplotlib.axes._subplots.AxesSubplot at 0x7fc784aaadd8>"
      ]
     },
     "execution_count": 211,
     "metadata": {},
     "output_type": "execute_result"
    },
    {
     "data": {
      "image/png": "[encoded data removed]",
      "text/plain": [
       "<matplotlib.figure.Figure at 0x7fc74c7ea978>"
      ]
     },
     "metadata": {},
     "output_type": "display_data"
    }
   ],
   "source": [
    "sns.distplot(houses.SalePrice.astype(int))"
   ]
  },
  {
   "cell_type": "markdown",
   "metadata": {
    "nbpresent": {
     "id": "d19d0aa1-c7f4-44e0-a336-a77e6ca4b15b"
    }
   },
   "source": [
    "### Example 2: HCP metadata"
   ]
  },
  {
   "cell_type": "code",
   "execution_count": 212,
   "metadata": {
    "collapsed": false,
    "nbpresent": {
     "id": "89e87b6b-e071-4d3e-be70-abfba498d3dc"
    }
   },
   "outputs": [
    {
     "data": {
      "text/plain": [
       "(527, 197)"
      ]
     },
     "execution_count": 212,
     "metadata": {},
     "output_type": "execute_result"
    }
   ],
   "source": [
    "hcp = pd.read_csv('data/HCP_metadata.csv', index_col=0)\n",
    "hcp.shape"
   ]
  },
  {
   "cell_type": "code",
   "execution_count": 213,
   "metadata": {
    "collapsed": false,
    "nbpresent": {
     "id": "da90c760-cf1d-4469-88c7-862de4303f00"
    }
   },
   "outputs": [
    {
     "data": {
      "text/plain": [
       "array(['Age_in_Yrs', 'Twin_Stat', 'Zygosity', 'Mother_ID', 'Father_ID',\n",
       "       'Race', 'Ethnicity', 'Handedness', 'SSAGA_Employ', 'SSAGA_Income'], dtype=object)"
      ]
     },
     "execution_count": 213,
     "metadata": {},
     "output_type": "execute_result"
    }
   ],
   "source": [
    "hcp.columns.values[:10]"
   ]
  },
  {
   "cell_type": "code",
   "execution_count": 214,
   "metadata": {
    "collapsed": false,
    "nbpresent": {
     "id": "55a93f2b-65ef-4d0e-9e00-4959da2c5cd4"
    }
   },
   "outputs": [
    {
     "name": "stdout",
     "output_type": "stream",
     "text": [
      "['Age_in_Yrs' 'Twin_Stat' 'Zygosity' 'Mother_ID' 'Father_ID']\n"
     ]
    }
   ],
   "source": [
    "features = hcp.columns.values[:5]\n",
    "print(features)"
   ]
  },
  {
   "cell_type": "code",
   "execution_count": 215,
   "metadata": {
    "collapsed": false,
    "nbpresent": {
     "id": "99d49b6b-d9dc-4944-86e6-642f64ff6e67"
    }
   },
   "outputs": [
    {
     "data": {
      "text/html": [
       "<div>\n",
       "<table border=\"1\" class=\"dataframe\">\n",
       "  <thead>\n",
       "    <tr style=\"text-align: right;\">\n",
       "      <th></th>\n",
       "      <th>Age_in_Yrs</th>\n",
       "      <th>Twin_Stat</th>\n",
       "      <th>Zygosity</th>\n",
       "      <th>Mother_ID</th>\n",
       "      <th>Father_ID</th>\n",
       "    </tr>\n",
       "    <tr>\n",
       "      <th>Subject</th>\n",
       "      <th></th>\n",
       "      <th></th>\n",
       "      <th></th>\n",
       "      <th></th>\n",
       "      <th></th>\n",
       "    </tr>\n",
       "  </thead>\n",
       "  <tbody>\n",
       "    <tr>\n",
       "      <th>100307</th>\n",
       "      <td>27</td>\n",
       "      <td>Twin</td>\n",
       "      <td>NotMZ</td>\n",
       "      <td>51488</td>\n",
       "      <td>81352.0</td>\n",
       "    </tr>\n",
       "    <tr>\n",
       "      <th>100408</th>\n",
       "      <td>33</td>\n",
       "      <td>Twin</td>\n",
       "      <td>MZ</td>\n",
       "      <td>51730</td>\n",
       "      <td>81594.0</td>\n",
       "    </tr>\n",
       "    <tr>\n",
       "      <th>101006</th>\n",
       "      <td>35</td>\n",
       "      <td>Twin</td>\n",
       "      <td>MZ</td>\n",
       "      <td>51283</td>\n",
       "      <td>81149.0</td>\n",
       "    </tr>\n",
       "    <tr>\n",
       "      <th>101107</th>\n",
       "      <td>22</td>\n",
       "      <td>NotTwin</td>\n",
       "      <td>NotTwin</td>\n",
       "      <td>51969</td>\n",
       "      <td>81833.0</td>\n",
       "    </tr>\n",
       "    <tr>\n",
       "      <th>101309</th>\n",
       "      <td>29</td>\n",
       "      <td>NotTwin</td>\n",
       "      <td>NotTwin</td>\n",
       "      <td>52385</td>\n",
       "      <td>82248.0</td>\n",
       "    </tr>\n",
       "  </tbody>\n",
       "</table>\n",
       "</div>"
      ],
      "text/plain": [
       "         Age_in_Yrs Twin_Stat Zygosity  Mother_ID  Father_ID\n",
       "Subject                                                     \n",
       "100307           27      Twin    NotMZ      51488    81352.0\n",
       "100408           33      Twin       MZ      51730    81594.0\n",
       "101006           35      Twin       MZ      51283    81149.0\n",
       "101107           22   NotTwin  NotTwin      51969    81833.0\n",
       "101309           29   NotTwin  NotTwin      52385    82248.0"
      ]
     },
     "execution_count": 215,
     "metadata": {},
     "output_type": "execute_result"
    }
   ],
   "source": [
    "hcp[features].head()"
   ]
  },
  {
   "cell_type": "code",
   "execution_count": 216,
   "metadata": {
    "collapsed": false,
    "nbpresent": {
     "id": "0bf1c793-05fc-4e53-b0a8-eeb3473a16d3"
    }
   },
   "outputs": [
    {
     "data": {
      "text/html": [
       "<div>\n",
       "<table border=\"1\" class=\"dataframe\">\n",
       "  <thead>\n",
       "    <tr style=\"text-align: right;\">\n",
       "      <th></th>\n",
       "      <th>Age_in_Yrs</th>\n",
       "      <th>Twin_Stat</th>\n",
       "      <th>Zygosity</th>\n",
       "      <th>Mother_ID</th>\n",
       "      <th>Father_ID</th>\n",
       "    </tr>\n",
       "    <tr>\n",
       "      <th>Subject</th>\n",
       "      <th></th>\n",
       "      <th></th>\n",
       "      <th></th>\n",
       "      <th></th>\n",
       "      <th></th>\n",
       "    </tr>\n",
       "  </thead>\n",
       "  <tbody>\n",
       "    <tr>\n",
       "      <th>100307</th>\n",
       "      <td>27</td>\n",
       "      <td>Twin</td>\n",
       "      <td>NotMZ</td>\n",
       "      <td>51488</td>\n",
       "      <td>81352.0</td>\n",
       "    </tr>\n",
       "    <tr>\n",
       "      <th>100408</th>\n",
       "      <td>33</td>\n",
       "      <td>Twin</td>\n",
       "      <td>MZ</td>\n",
       "      <td>51730</td>\n",
       "      <td>81594.0</td>\n",
       "    </tr>\n",
       "    <tr>\n",
       "      <th>101006</th>\n",
       "      <td>35</td>\n",
       "      <td>Twin</td>\n",
       "      <td>MZ</td>\n",
       "      <td>51283</td>\n",
       "      <td>81149.0</td>\n",
       "    </tr>\n",
       "    <tr>\n",
       "      <th>101107</th>\n",
       "      <td>22</td>\n",
       "      <td>NotTwin</td>\n",
       "      <td>NotTwin</td>\n",
       "      <td>51969</td>\n",
       "      <td>81833.0</td>\n",
       "    </tr>\n",
       "    <tr>\n",
       "      <th>101309</th>\n",
       "      <td>29</td>\n",
       "      <td>NotTwin</td>\n",
       "      <td>NotTwin</td>\n",
       "      <td>52385</td>\n",
       "      <td>82248.0</td>\n",
       "    </tr>\n",
       "  </tbody>\n",
       "</table>\n",
       "</div>"
      ],
      "text/plain": [
       "         Age_in_Yrs Twin_Stat Zygosity  Mother_ID  Father_ID\n",
       "Subject                                                     \n",
       "100307           27      Twin    NotMZ      51488    81352.0\n",
       "100408           33      Twin       MZ      51730    81594.0\n",
       "101006           35      Twin       MZ      51283    81149.0\n",
       "101107           22   NotTwin  NotTwin      51969    81833.0\n",
       "101309           29   NotTwin  NotTwin      52385    82248.0"
      ]
     },
     "execution_count": 216,
     "metadata": {},
     "output_type": "execute_result"
    }
   ],
   "source": [
    "hcp.iloc[:5,:5]"
   ]
  },
  {
   "cell_type": "code",
   "execution_count": 217,
   "metadata": {
    "collapsed": false,
    "nbpresent": {
     "id": "fa420a43-d93a-4fd8-942a-24c09f42b2a4"
    }
   },
   "outputs": [
    {
     "data": {
      "text/plain": [
       "Zygosity\n",
       "MZ         118\n",
       "NotMZ      137\n",
       "NotTwin    272\n",
       "dtype: int64"
      ]
     },
     "execution_count": 217,
     "metadata": {},
     "output_type": "execute_result"
    }
   ],
   "source": [
    "hcp.groupby(by = 'Zygosity').size()"
   ]
  },
  {
   "cell_type": "code",
   "execution_count": 218,
   "metadata": {
    "collapsed": false,
    "nbpresent": {
     "id": "58d59594-c920-495f-acd2-2fb7e36e2826"
    }
   },
   "outputs": [
    {
     "data": {
      "text/plain": [
       "Zygosity\n",
       "MZ         30.067797\n",
       "NotMZ      29.868613\n",
       "NotTwin    28.492647\n",
       "Name: Age_in_Yrs, dtype: float64"
      ]
     },
     "execution_count": 218,
     "metadata": {},
     "output_type": "execute_result"
    }
   ],
   "source": [
    "hcp.groupby(by = 'Zygosity').mean()['Age_in_Yrs']"
   ]
  },
  {
   "cell_type": "code",
   "execution_count": 219,
   "metadata": {
    "collapsed": false,
    "nbpresent": {
     "id": "0fd58901-b675-4927-ae81-ba6d05d10336"
    }
   },
   "outputs": [
    {
     "data": {
      "text/plain": [
       "Zygosity\n",
       "MZ         3.109755\n",
       "NotMZ      2.809693\n",
       "NotTwin    3.797448\n",
       "Name: Age_in_Yrs, dtype: float64"
      ]
     },
     "execution_count": 219,
     "metadata": {},
     "output_type": "execute_result"
    }
   ],
   "source": [
    "hcp.groupby(by = 'Zygosity').std()['Age_in_Yrs']"
   ]
  },
  {
   "cell_type": "code",
   "execution_count": 220,
   "metadata": {
    "collapsed": false,
    "nbpresent": {
     "id": "3507b962-4316-44d5-a640-ef0f2c464719"
    }
   },
   "outputs": [
    {
     "data": {
      "text/plain": [
       "(array([ 36.,  21.,  67.,  49.,  55.,  95.,  45.,  94.,  33.,  32.]),\n",
       " array([ 22. ,  23.4,  24.8,  26.2,  27.6,  29. ,  30.4,  31.8,  33.2,\n",
       "         34.6,  36. ]),\n",
       " <a list of 10 Patch objects>)"
      ]
     },
     "execution_count": 220,
     "metadata": {},
     "output_type": "execute_result"
    },
    {
     "data": {
      "image/png": "[encoded data removed]",
      "text/plain": [
       "<matplotlib.figure.Figure at 0x7fc78490c940>"
      ]
     },
     "metadata": {},
     "output_type": "display_data"
    }
   ],
   "source": [
    "plt.hist(hcp.Age_in_Yrs, bins = 10)"
   ]
  },
  {
   "cell_type": "code",
   "execution_count": 221,
   "metadata": {
    "collapsed": false,
    "nbpresent": {
     "id": "6df58a7f-ff65-4b16-8330-d47bbafcc4f3"
    }
   },
   "outputs": [
    {
     "name": "stderr",
     "output_type": "stream",
     "text": [
      "/home/deaddy/.local/lib/python3.5/site-packages/statsmodels/nonparametric/kdetools.py:20: VisibleDeprecationWarning: using a non-integer number instead of an integer will result in an error in the future\n",
      "  y = X[:m/2+1] + np.r_[0,X[m/2+1:],0]*1j\n"
     ]
    },
    {
     "data": {
      "text/plain": [
       "<matplotlib.axes._subplots.AxesSubplot at 0x7fc78489c438>"
      ]
     },
     "execution_count": 221,
     "metadata": {},
     "output_type": "execute_result"
    },
    {
     "data": {
      "image/png": "[encoded data removed]",
      "text/plain": [
       "<matplotlib.figure.Figure at 0x7fc7848a5c18>"
      ]
     },
     "metadata": {},
     "output_type": "display_data"
    }
   ],
   "source": [
    "sns.distplot(hcp.Age_in_Yrs)"
   ]
  },
  {
   "cell_type": "code",
   "execution_count": 222,
   "metadata": {
    "collapsed": false,
    "nbpresent": {
     "id": "06dd3757-db69-4b38-b5a4-287b84291200"
    }
   },
   "outputs": [
    {
     "data": {
      "text/plain": [
       "<matplotlib.axes._subplots.AxesSubplot at 0x7fc78477f6a0>"
      ]
     },
     "execution_count": 222,
     "metadata": {},
     "output_type": "execute_result"
    },
    {
     "data": {
      "image/png": "[encoded data removed]",
      "text/plain": [
       "<matplotlib.figure.Figure at 0x7fc784791470>"
      ]
     },
     "metadata": {},
     "output_type": "display_data"
    }
   ],
   "source": [
    "sns.boxplot(x = 'Zygosity', y = 'Age_in_Yrs', data = hcp)"
   ]
  },
  {
   "cell_type": "code",
   "execution_count": 223,
   "metadata": {
    "collapsed": false,
    "nbpresent": {
     "id": "d0cae2a4-6306-40f2-87a7-9d3c61043f44"
    }
   },
   "outputs": [
    {
     "data": {
      "text/plain": [
       "<matplotlib.axes._subplots.AxesSubplot at 0x7fc78486fc18>"
      ]
     },
     "execution_count": 223,
     "metadata": {},
     "output_type": "execute_result"
    },
    {
     "data": {
      "image/png": "[encoded data removed]",
      "text/plain": [
       "<matplotlib.figure.Figure at 0x7fc7847b0be0>"
      ]
     },
     "metadata": {},
     "output_type": "display_data"
    }
   ],
   "source": [
    "plt.figure(figsize = (15,5))\n",
    "sns.boxplot(x = 'Race', y = 'Age_in_Yrs', hue = 'Zygosity', data = hcp)"
   ]
  },
  {
   "cell_type": "code",
   "execution_count": 224,
   "metadata": {
    "collapsed": false,
    "nbpresent": {
     "id": "8302fcd6-c0a4-43b7-b863-e7b13ff1e32b"
    }
   },
   "outputs": [
    {
     "data": {
      "text/plain": [
       "<matplotlib.axes._subplots.AxesSubplot at 0x7fc7845b5cc0>"
      ]
     },
     "execution_count": 224,
     "metadata": {},
     "output_type": "execute_result"
    },
    {
     "data": {
      "image/png": "[encoded data removed]",
      "text/plain": [
       "<matplotlib.figure.Figure at 0x7fc7845b5a90>"
      ]
     },
     "metadata": {},
     "output_type": "display_data"
    }
   ],
   "source": [
    "sns.regplot(hcp.Height, hcp.Weight)"
   ]
  },
  {
   "cell_type": "code",
   "execution_count": 225,
   "metadata": {
    "collapsed": false,
    "nbpresent": {
     "id": "bb0ee837-14fa-46f5-825c-3857ca2478da"
    }
   },
   "outputs": [
    {
     "data": {
      "text/plain": [
       "<matplotlib.axes._subplots.AxesSubplot at 0x7fc78455ed30>"
      ]
     },
     "execution_count": 225,
     "metadata": {},
     "output_type": "execute_result"
    },
    {
     "data": {
      "image/png": "[encoded data removed]",
      "text/plain": [
       "<matplotlib.figure.Figure at 0x7fc784516cc0>"
      ]
     },
     "metadata": {},
     "output_type": "display_data"
    }
   ],
   "source": [
    "hcp.Height.hist(bins = 20)"
   ]
  },
  {
   "cell_type": "code",
   "execution_count": 226,
   "metadata": {
    "collapsed": false,
    "nbpresent": {
     "id": "496b064b-6f12-4f65-86bb-9aa764b3c857"
    }
   },
   "outputs": [
    {
     "data": {
      "image/png": "[encoded data removed]",
      "text/plain": [
       "<matplotlib.figure.Figure at 0x7fc78452c588>"
      ]
     },
     "metadata": {},
     "output_type": "display_data"
    }
   ],
   "source": [
    "from pandas.tools.plotting import scatter_matrix\n",
    "\n",
    "features = ['Height', 'Weight', 'BMI', 'Age_in_Yrs']\n",
    "\n",
    "scatter_matrix(hcp[features], figsize = (13,13), diagonal = 'kde')\n",
    "pass"
   ]
  },
  {
   "cell_type": "markdown",
   "metadata": {
    "nbpresent": {
     "id": "cdf961a5-a7a0-4546-88f4-3ca30d43f922"
    }
   },
   "source": [
    "### Example 3: MNIST"
   ]
  },
  {
   "cell_type": "code",
   "execution_count": 227,
   "metadata": {
    "collapsed": false,
    "nbpresent": {
     "id": "203e57ac-cd74-439b-b159-de01c86427a3"
    }
   },
   "outputs": [],
   "source": [
    "from sklearn.datasets import fetch_mldata\n",
    "mnist = fetch_mldata('MNIST original', data_home='data')"
   ]
  },
  {
   "cell_type": "code",
   "execution_count": 228,
   "metadata": {
    "collapsed": false,
    "nbpresent": {
     "id": "486fc90b-8d02-412c-806f-c8aef05d25a7"
    }
   },
   "outputs": [],
   "source": [
    "mnist_data = mnist.data\n",
    "mnist_target = mnist.target"
   ]
  },
  {
   "cell_type": "code",
   "execution_count": 229,
   "metadata": {
    "collapsed": false,
    "nbpresent": {
     "id": "eb704be9-3ae1-4d2a-adcf-cb224ade5ab2"
    }
   },
   "outputs": [
    {
     "name": "stdout",
     "output_type": "stream",
     "text": [
      "Target variable for index -100 is 9.0\n"
     ]
    },
    {
     "data": {
      "text/plain": [
       "<matplotlib.image.AxesImage at 0x7fc74c1b3908>"
      ]
     },
     "execution_count": 229,
     "metadata": {},
     "output_type": "execute_result"
    },
    {
     "data": {
      "image/png": "[encoded data removed]",
      "text/plain": [
       "<matplotlib.figure.Figure at 0x7fc74c2645c0>"
      ]
     },
     "metadata": {},
     "output_type": "display_data"
    }
   ],
   "source": [
    "sns.set_style('white')\n",
    "ind = -100\n",
    "print('Target variable for index {} is {}'.format(ind, mnist_target[ind]))\n",
    "plt.imshow(mnist_data[ind,:].reshape((28,28)))"
   ]
  },
  {
   "cell_type": "code",
   "execution_count": 230,
   "metadata": {
    "collapsed": true,
    "nbpresent": {
     "id": "b714a1e2-b64f-40ca-8c50-12a767a2ac3e"
    }
   },
   "outputs": [],
   "source": [
    "mnist_df = pd.DataFrame(mnist_data)"
   ]
  },
  {
   "cell_type": "code",
   "execution_count": 231,
   "metadata": {
    "collapsed": true,
    "nbpresent": {
     "id": "0e83ddb1-deb8-45a7-910c-2bb0a16ae106"
    }
   },
   "outputs": [],
   "source": [
    "mnist_df['target'] = mnist_target.astype(int)"
   ]
  },
  {
   "cell_type": "code",
   "execution_count": 232,
   "metadata": {
    "collapsed": false,
    "nbpresent": {
     "id": "f0ea96a3-1add-421e-84c5-6eca2cdf656f"
    }
   },
   "outputs": [
    {
     "data": {
      "text/plain": [
       "1    7877\n",
       "7    7293\n",
       "3    7141\n",
       "2    6990\n",
       "9    6958\n",
       "0    6903\n",
       "6    6876\n",
       "8    6825\n",
       "4    6824\n",
       "5    6313\n",
       "Name: target, dtype: int64"
      ]
     },
     "execution_count": 232,
     "metadata": {},
     "output_type": "execute_result"
    }
   ],
   "source": [
    "mnist_df.target.value_counts()"
   ]
  },
  {
   "cell_type": "code",
   "execution_count": 233,
   "metadata": {
    "collapsed": false,
    "nbpresent": {
     "id": "68530524-1b09-46ca-8dae-97c0a26992bd"
    }
   },
   "outputs": [
    {
     "data": {
      "text/plain": [
       "2    6990\n",
       "Name: target, dtype: int64"
      ]
     },
     "execution_count": 233,
     "metadata": {},
     "output_type": "execute_result"
    }
   ],
   "source": [
    "sel2 = mnist_df[mnist_df.target == 2]\n",
    "sel2.target.value_counts()"
   ]
  },
  {
   "cell_type": "code",
   "execution_count": 234,
   "metadata": {
    "collapsed": false,
    "nbpresent": {
     "id": "9d26311b-0402-48c1-a2b4-b8f15a4ffa4b"
    }
   },
   "outputs": [
    {
     "data": {
      "text/plain": [
       "2    6990\n",
       "Name: target, dtype: int64"
      ]
     },
     "execution_count": 234,
     "metadata": {},
     "output_type": "execute_result"
    }
   ],
   "source": [
    "sel2 = mnist_df.query('target == 2')\n",
    "sel2.target.value_counts()"
   ]
  },
  {
   "cell_type": "markdown",
   "metadata": {
    "nbpresent": {
     "id": "037a4d9d-25cc-44d8-9a90-ebcb9b4b4883"
    }
   },
   "source": [
    "## 3. Scikit-learn machine learning examples on MNIST data"
   ]
  },
  {
   "cell_type": "code",
   "execution_count": 235,
   "metadata": {
    "collapsed": false,
    "nbpresent": {
     "id": "baf2206b-2c71-46cb-8857-07a371a8ff2f"
    }
   },
   "outputs": [],
   "source": [
    "features = mnist_df.columns[:-1]"
   ]
  },
  {
   "cell_type": "code",
   "execution_count": 236,
   "metadata": {
    "collapsed": false,
    "nbpresent": {
     "id": "85ad2650-d0f4-4967-9ad1-c4b314a12ee1"
    }
   },
   "outputs": [
    {
     "data": {
      "text/plain": [
       "Index([  0,   1,   2,   3,   4,   5,   6,   7,   8,   9,\n",
       "       ...\n",
       "       774, 775, 776, 777, 778, 779, 780, 781, 782, 783],\n",
       "      dtype='object', length=784)"
      ]
     },
     "execution_count": 236,
     "metadata": {},
     "output_type": "execute_result"
    }
   ],
   "source": [
    "features"
   ]
  },
  {
   "cell_type": "code",
   "execution_count": 237,
   "metadata": {
    "collapsed": false,
    "nbpresent": {
     "id": "21617de9-afd2-4b61-97d1-b4271745da41"
    }
   },
   "outputs": [],
   "source": [
    "from sklearn.linear_model import LogisticRegression, SGDClassifier\n",
    "from sklearn.model_selection import cross_val_score, KFold, train_test_split, ShuffleSplit\n",
    "from sklearn.metrics import accuracy_score, confusion_matrix\n",
    "from sklearn.preprocessing import StandardScaler\n",
    "from sklearn.pipeline import Pipeline\n",
    "import numpy as np\n",
    "\n"
   ]
  },
  {
   "cell_type": "markdown",
   "metadata": {
    "nbpresent": {
     "id": "4cf0d81f-8870-4930-9e36-388afc5ef618"
    }
   },
   "source": [
    "#### Splitting data into train/test"
   ]
  },
  {
   "cell_type": "code",
   "execution_count": 238,
   "metadata": {
    "collapsed": true,
    "nbpresent": {
     "id": "2533c8ea-5870-45ac-a3ec-da832886cd9e"
    }
   },
   "outputs": [],
   "source": [
    "X_train, X_test, y_train, y_test = train_test_split(mnist_df[features], \n",
    "                                                    mnist_df.target, test_size = 0.5, \n",
    "                                                    random_state = 0, stratify = mnist_df.target)"
   ]
  },
  {
   "cell_type": "code",
   "execution_count": 239,
   "metadata": {
    "collapsed": false,
    "nbpresent": {
     "id": "59c35b62-914e-41b0-8ab4-a11fb6cd1ab0"
    }
   },
   "outputs": [
    {
     "data": {
      "text/plain": [
       "1    0.112529\n",
       "7    0.104186\n",
       "3    0.102014\n",
       "2    0.099857\n",
       "9    0.099400\n",
       "0    0.098614\n",
       "6    0.098229\n",
       "8    0.097500\n",
       "4    0.097486\n",
       "5    0.090186\n",
       "Name: target, dtype: float64"
      ]
     },
     "execution_count": 239,
     "metadata": {},
     "output_type": "execute_result"
    }
   ],
   "source": [
    "mnist_df.target.value_counts()/len(mnist_df.target)"
   ]
  },
  {
   "cell_type": "code",
   "execution_count": 240,
   "metadata": {
    "collapsed": false,
    "nbpresent": {
     "id": "0e603f2d-af2e-452e-af58-d57d7db06f18"
    }
   },
   "outputs": [
    {
     "data": {
      "text/plain": [
       "1    0.112543\n",
       "7    0.104171\n",
       "3    0.102029\n",
       "2    0.099857\n",
       "9    0.099400\n",
       "0    0.098600\n",
       "6    0.098229\n",
       "8    0.097514\n",
       "4    0.097486\n",
       "5    0.090171\n",
       "Name: target, dtype: float64"
      ]
     },
     "execution_count": 240,
     "metadata": {},
     "output_type": "execute_result"
    }
   ],
   "source": [
    "y_train.value_counts()/len(y_train)"
   ]
  },
  {
   "cell_type": "code",
   "execution_count": 241,
   "metadata": {
    "collapsed": false,
    "nbpresent": {
     "id": "a8099543-3e8d-48b9-94c3-a2ccc037725e"
    }
   },
   "outputs": [
    {
     "data": {
      "text/plain": [
       "1    0.112514\n",
       "7    0.104200\n",
       "3    0.102000\n",
       "2    0.099857\n",
       "9    0.099400\n",
       "0    0.098629\n",
       "6    0.098229\n",
       "8    0.097486\n",
       "4    0.097486\n",
       "5    0.090200\n",
       "Name: target, dtype: float64"
      ]
     },
     "execution_count": 241,
     "metadata": {},
     "output_type": "execute_result"
    }
   ],
   "source": [
    "y_test.value_counts()/len(y_test)"
   ]
  },
  {
   "cell_type": "code",
   "execution_count": 242,
   "metadata": {
    "collapsed": false,
    "nbpresent": {
     "id": "a2c00371-76da-46a0-8761-0dda41c13094"
    }
   },
   "outputs": [
    {
     "name": "stdout",
     "output_type": "stream",
     "text": [
      "Accuracy on test: 0.877542857143\n"
     ]
    }
   ],
   "source": [
    "clf_lr = SGDClassifier(loss='hinge', penalty = 'elasticnet', random_state=1)\n",
    "clf_lr.fit(X_train, y_train)\n",
    "preds = clf_lr.predict(X_test)\n",
    "print('Accuracy on test:', accuracy_score(y_test, preds))"
   ]
  },
  {
   "cell_type": "code",
   "execution_count": 243,
   "metadata": {
    "collapsed": false,
    "nbpresent": {
     "id": "df87a371-8c4e-4c59-a973-4ff2d86c414a"
    }
   },
   "outputs": [
    {
     "data": {
      "text/plain": [
       "array([[ 0.,  0.,  0., ...,  0.,  0.,  0.],\n",
       "       [ 0.,  0.,  0., ...,  0.,  0.,  0.],\n",
       "       [ 0.,  0.,  0., ...,  0.,  0.,  0.],\n",
       "       ..., \n",
       "       [ 0.,  0.,  0., ...,  0.,  0.,  0.],\n",
       "       [ 0.,  0.,  0., ...,  0.,  0.,  0.],\n",
       "       [ 0.,  0.,  0., ...,  0.,  0.,  0.]])"
      ]
     },
     "execution_count": 243,
     "metadata": {},
     "output_type": "execute_result"
    }
   ],
   "source": [
    "clf.coef_"
   ]
  },
  {
   "cell_type": "code",
   "execution_count": 244,
   "metadata": {
    "collapsed": false,
    "nbpresent": {
     "id": "a7426b9f-44f5-40db-998f-47c08e12631a"
    }
   },
   "outputs": [
    {
     "data": {
      "text/plain": [
       "array([-1305.83504172, -1439.65026228, -1126.54258055, -1193.45796201,\n",
       "       -1322.25654667, -1025.71221284, -1243.21465877, -1183.12855568,\n",
       "        -991.0748355 , -1220.8244281 ])"
      ]
     },
     "execution_count": 244,
     "metadata": {},
     "output_type": "execute_result"
    }
   ],
   "source": [
    "clf.intercept_"
   ]
  },
  {
   "cell_type": "code",
   "execution_count": 245,
   "metadata": {
    "collapsed": false,
    "nbpresent": {
     "id": "df684f3a-9d8a-4e52-8950-afd59d383a5d"
    }
   },
   "outputs": [
    {
     "name": "stdout",
     "output_type": "stream",
     "text": [
      "Accuracy on test: 0.913028571429\n"
     ]
    }
   ],
   "source": [
    "scaler = StandardScaler()\n",
    "pipe = Pipeline([('scaler', scaler), ('clf', clf)])\n",
    "pipe.fit(X_train, y_train)\n",
    "preds = pipe.predict(X_test)\n",
    "print('Accuracy on test:', accuracy_score(y_test, preds))"
   ]
  },
  {
   "cell_type": "code",
   "execution_count": 92,
   "metadata": {
    "collapsed": false,
    "nbpresent": {
     "id": "21fefa12-a763-42cf-80b1-93e89a8ccf6a"
    }
   },
   "outputs": [
    {
     "ename": "AttributeError",
     "evalue": "'StandardScaler' object has no attribute 'mean_'",
     "output_type": "error",
     "traceback": [
      "\u001b[0;31m---------------------------------------------------------------------------\u001b[0m",
      "\u001b[0;31mAttributeError\u001b[0m                            Traceback (most recent call last)",
      "\u001b[0;32m<ipython-input-92-df3fd8dcfa5d>\u001b[0m in \u001b[0;36m<module>\u001b[0;34m()\u001b[0m\n\u001b[1;32m      1\u001b[0m \u001b[0mscaler\u001b[0m \u001b[0;34m=\u001b[0m \u001b[0mStandardScaler\u001b[0m\u001b[0;34m(\u001b[0m\u001b[0;34m)\u001b[0m\u001b[0;34m\u001b[0m\u001b[0m\n\u001b[0;32m----> 2\u001b[0;31m \u001b[0mscaler\u001b[0m\u001b[0;34m.\u001b[0m\u001b[0mmean_\u001b[0m\u001b[0;34m\u001b[0m\u001b[0m\n\u001b[0m",
      "\u001b[0;31mAttributeError\u001b[0m: 'StandardScaler' object has no attribute 'mean_'"
     ]
    }
   ],
   "source": [
    "scaler = StandardScaler()\n",
    "scaler.mean_"
   ]
  },
  {
   "cell_type": "code",
   "execution_count": 93,
   "metadata": {
    "collapsed": false,
    "nbpresent": {
     "id": "f3cabdac-6494-449d-a6b5-94735e32467b"
    }
   },
   "outputs": [
    {
     "data": {
      "text/plain": [
       "StandardScaler(copy=True, with_mean=True, with_std=True)"
      ]
     },
     "execution_count": 93,
     "metadata": {},
     "output_type": "execute_result"
    }
   ],
   "source": [
    "scaler.fit(X_train)"
   ]
  },
  {
   "cell_type": "code",
   "execution_count": 246,
   "metadata": {
    "collapsed": false,
    "nbpresent": {
     "id": "04626c78-cf66-48dc-97a0-34e6df097540"
    }
   },
   "outputs": [
    {
     "data": {
      "text/plain": [
       "0.00025714285714285715"
      ]
     },
     "execution_count": 246,
     "metadata": {},
     "output_type": "execute_result"
    }
   ],
   "source": [
    "scaler.mean_[15]"
   ]
  },
  {
   "cell_type": "code",
   "execution_count": 247,
   "metadata": {
    "collapsed": false,
    "nbpresent": {
     "id": "d6839af8-4971-4814-9a0e-b4b723ba1f1e"
    }
   },
   "outputs": [
    {
     "data": {
      "text/plain": [
       "0.00025714285714285715"
      ]
     },
     "execution_count": 247,
     "metadata": {},
     "output_type": "execute_result"
    }
   ],
   "source": [
    "X_train.mean()[15]"
   ]
  },
  {
   "cell_type": "code",
   "execution_count": 95,
   "metadata": {
    "collapsed": false,
    "nbpresent": {
     "id": "686f4fcf-3240-432b-b3ea-b2b1b14cdd50"
    }
   },
   "outputs": [
    {
     "data": {
      "text/plain": [
       "0.048106336296172912"
      ]
     },
     "execution_count": 95,
     "metadata": {},
     "output_type": "execute_result"
    }
   ],
   "source": [
    "pipe.named_steps['scaler'].scale_[15]"
   ]
  },
  {
   "cell_type": "code",
   "execution_count": 96,
   "metadata": {
    "collapsed": false,
    "nbpresent": {
     "id": "cb740860-63bd-4bfa-a0a9-6bf27ef5ff52"
    }
   },
   "outputs": [
    {
     "data": {
      "text/plain": [
       "0.048106336296172912"
      ]
     },
     "execution_count": 96,
     "metadata": {},
     "output_type": "execute_result"
    }
   ],
   "source": [
    "X_train.std(ddof=0)[15]"
   ]
  },
  {
   "cell_type": "code",
   "execution_count": 78,
   "metadata": {
    "collapsed": false,
    "nbpresent": {
     "id": "aeaa4553-a93c-4231-a9ab-ba14ba34453a"
    }
   },
   "outputs": [
    {
     "data": {
      "text/plain": [
       "SGDClassifier(alpha=0.0001, average=False, class_weight=None, epsilon=0.1,\n",
       "       eta0=0.0, fit_intercept=True, l1_ratio=0.15,\n",
       "       learning_rate='optimal', loss='hinge', n_iter=5, n_jobs=1,\n",
       "       penalty='elasticnet', power_t=0.5, random_state=1, shuffle=True,\n",
       "       verbose=0, warm_start=False)"
      ]
     },
     "execution_count": 78,
     "metadata": {},
     "output_type": "execute_result"
    }
   ],
   "source": [
    "pipe.named_steps['clf']"
   ]
  },
  {
   "cell_type": "code",
   "execution_count": 248,
   "metadata": {
    "collapsed": false,
    "nbpresent": {
     "id": "9c141f87-c134-45f9-838b-eac5e72bdf0b"
    }
   },
   "outputs": [
    {
     "data": {
      "text/plain": [
       "array([[ 0.,  0.,  0., ...,  0.,  0.,  0.],\n",
       "       [ 0.,  0.,  0., ...,  0.,  0.,  0.],\n",
       "       [ 0.,  0.,  0., ...,  0.,  0.,  0.],\n",
       "       ..., \n",
       "       [ 0.,  0.,  0., ...,  0.,  0.,  0.],\n",
       "       [ 0.,  0.,  0., ...,  0.,  0.,  0.],\n",
       "       [ 0.,  0.,  0., ...,  0.,  0.,  0.]])"
      ]
     },
     "execution_count": 248,
     "metadata": {},
     "output_type": "execute_result"
    }
   ],
   "source": [
    "pipe.named_steps['clf'].coef_"
   ]
  },
  {
   "cell_type": "code",
   "execution_count": 261,
   "metadata": {
    "collapsed": false,
    "nbpresent": {
     "id": "44a04ff1-a9f5-4b32-b195-be53e3bd83bb"
    }
   },
   "outputs": [
    {
     "name": "stdout",
     "output_type": "stream",
     "text": [
      "Accuracy on test: 0.938085714286\n"
     ]
    }
   ],
   "source": [
    "from sklearn.ensemble import RandomForestClassifier, GradientBoostingClassifier\n",
    "\n",
    "clf_rf = RandomForestClassifier(n_estimators=10, random_state=0, n_jobs = 8, max_depth=30)\n",
    "clf_rf.fit(X_train, y_train)\n",
    "preds = clf_rf.predict(X_test)\n",
    "print('Accuracy on test:', accuracy_score(y_test, preds))"
   ]
  },
  {
   "cell_type": "code",
   "execution_count": 262,
   "metadata": {
    "collapsed": false,
    "nbpresent": {
     "id": "e8ade09e-591c-47ed-8fdc-445ce00c46aa"
    }
   },
   "outputs": [
    {
     "name": "stdout",
     "output_type": "stream",
     "text": [
      "CV score is 0.859 ± 0.005\n"
     ]
    }
   ],
   "source": [
    "kfold = KFold(n_splits=5, shuffle=True, random_state=0)\n",
    "scores = cross_val_score(clf_lr, mnist_df[features], y=mnist_df.target, \n",
    "                         scoring = 'accuracy', verbose = 0, n_jobs = 8)\n",
    "print('CV score is {:.3f} ± {:.3f}'.format(scores.mean(), scores.std()))"
   ]
  },
  {
   "cell_type": "code",
   "execution_count": 263,
   "metadata": {
    "collapsed": false,
    "nbpresent": {
     "id": "6bef8831-62ad-425c-b840-d60b092571e4"
    }
   },
   "outputs": [
    {
     "name": "stdout",
     "output_type": "stream",
     "text": [
      "CV score is 0.910 ± 0.003\n"
     ]
    }
   ],
   "source": [
    "scores = cross_val_score(pipe, mnist_df[features], y=mnist_df.target, \n",
    "                         scoring = 'accuracy', verbose = 0, n_jobs = 8)\n",
    "print('CV score is {:.3f} ± {:.3f}'.format(scores.mean(), scores.std()))"
   ]
  },
  {
   "cell_type": "code",
   "execution_count": 264,
   "metadata": {
    "collapsed": false,
    "nbpresent": {
     "id": "4df354ed-a93c-4a05-a2a6-0ef6169d752e"
    }
   },
   "outputs": [
    {
     "name": "stdout",
     "output_type": "stream",
     "text": [
      "CV score is 0.943 ± 0.003\n"
     ]
    }
   ],
   "source": [
    "scores = cross_val_score(clf_rf, mnist_df[features], y=mnist_df.target, \n",
    "                         scoring = 'accuracy', verbose = 0, n_jobs = 8)\n",
    "print('CV score is {:.3f} ± {:.3f}'.format(scores.mean(), scores.std()))"
   ]
  },
  {
   "cell_type": "code",
   "execution_count": 267,
   "metadata": {
    "collapsed": false,
    "nbpresent": {
     "id": "fc19ed99-cbde-44ac-af99-b039c8f1d211"
    }
   },
   "outputs": [],
   "source": [
    "from sklearn.grid_search import GridSearchCV\n",
    "\n",
    "rf_grid = {'n_estimators': [10, 50, 100],\n",
    "              'max_depth': [None, 5]}\n",
    "\n",
    "grid_cv = KFold(n_splits=2, shuffle=True, random_state=0)\n",
    "clf_grid = GridSearchCV(clf_rf, param_grid= rf_grid, cv = list(grid_cv.split(X_train)))\n",
    "clf_grid.fit(X_train, y_train)\n",
    "pass"
   ]
  },
  {
   "cell_type": "code",
   "execution_count": 265,
   "metadata": {
    "collapsed": false,
    "nbpresent": {
     "id": "93c987c9-0ea1-4420-96ef-3d6453f445c1"
    }
   },
   "outputs": [
    {
     "data": {
      "text/plain": [
       "{'max_depth': None, 'n_estimators': 100}"
      ]
     },
     "execution_count": 265,
     "metadata": {},
     "output_type": "execute_result"
    }
   ],
   "source": [
    "clf_grid.best_params_"
   ]
  },
  {
   "cell_type": "code",
   "execution_count": 266,
   "metadata": {
    "collapsed": false,
    "nbpresent": {
     "id": "b77afb7c-b570-4d23-9ca4-3b275a4eaee9"
    }
   },
   "outputs": [
    {
     "name": "stdout",
     "output_type": "stream",
     "text": [
      "Accuracy on test: 0.965028571429\n"
     ]
    }
   ],
   "source": [
    "preds = clf_grid.predict(X_test)\n",
    "print('Accuracy on test:', accuracy_score(y_test, preds))"
   ]
  },
  {
   "cell_type": "code",
   "execution_count": 269,
   "metadata": {
    "collapsed": false,
    "nbpresent": {
     "id": "4cbe4bf6-857a-458c-a11f-1356d9aba840"
    }
   },
   "outputs": [
    {
     "data": {
      "text/plain": [
       "{'copy': True, 'with_mean': True, 'with_std': True}"
      ]
     },
     "execution_count": 269,
     "metadata": {},
     "output_type": "execute_result"
    }
   ],
   "source": [
    "scaler.get_params()"
   ]
  },
  {
   "cell_type": "code",
   "execution_count": 271,
   "metadata": {
    "collapsed": false,
    "nbpresent": {
     "id": "785b6cab-eeb2-4183-b820-6bdf80cd66c0"
    }
   },
   "outputs": [],
   "source": [
    "pipe_grid = {'scaler__with_mean': [True, False],\n",
    "           'clf__alpha': [0.001, 0.01],\n",
    "           'clf__l1_ratio': [0, 0.5, 1]}\n",
    "\n",
    "grid_cv = KFold(n_splits=2, shuffle=True, random_state=0)\n",
    "clf_grid = GridSearchCV(pipe, param_grid= pipe_grid, cv = list(grid_cv.split(X_train)))\n",
    "clf_grid.fit(X_train, y_train)\n",
    "pass"
   ]
  },
  {
   "cell_type": "code",
   "execution_count": 272,
   "metadata": {
    "collapsed": false,
    "nbpresent": {
     "id": "09818162-a98a-4759-802c-4d7270739b6d"
    }
   },
   "outputs": [
    {
     "data": {
      "text/plain": [
       "0.901"
      ]
     },
     "execution_count": 272,
     "metadata": {},
     "output_type": "execute_result"
    }
   ],
   "source": [
    "clf_grid.best_score_"
   ]
  },
  {
   "cell_type": "code",
   "execution_count": 273,
   "metadata": {
    "collapsed": false,
    "nbpresent": {
     "id": "82e77658-5f9f-482d-9272-8668a8f6d0eb"
    }
   },
   "outputs": [
    {
     "data": {
      "text/plain": [
       "{'clf__alpha': 0.001, 'clf__l1_ratio': 0.5, 'scaler__with_mean': True}"
      ]
     },
     "execution_count": 273,
     "metadata": {},
     "output_type": "execute_result"
    }
   ],
   "source": [
    "clf_grid.best_params_"
   ]
  },
  {
   "cell_type": "code",
   "execution_count": 274,
   "metadata": {
    "collapsed": false,
    "nbpresent": {
     "id": "0d568570-8e5c-41b2-8196-27b626b97307"
    }
   },
   "outputs": [
    {
     "name": "stdout",
     "output_type": "stream",
     "text": [
      "Accuracy on test: 0.906714285714\n"
     ]
    }
   ],
   "source": [
    "preds = clf_grid.predict(X_test)\n",
    "print('Accuracy on test:', accuracy_score(y_test, preds))"
   ]
  },
  {
   "cell_type": "markdown",
   "metadata": {
    "nbpresent": {
     "id": "a26779cf-c547-4cbf-9344-45a507769a72"
    }
   },
   "source": [
    "## 4. Deep learning with Keras"
   ]
  },
  {
   "cell_type": "code",
   "execution_count": 160,
   "metadata": {
    "collapsed": true,
    "nbpresent": {
     "id": "4a1fe884-f453-426d-8398-32fdb31ab822"
    }
   },
   "outputs": [],
   "source": [
    "import numpy as np\n",
    "np.random.seed(1337)  # for reproducibility\n",
    "\n",
    "from keras.models import Sequential\n",
    "from keras.layers.core import Dense, Dropout, Activation, Flatten\n",
    "from keras.layers import Convolution2D, MaxPooling2D\n",
    "from keras.optimizers import RMSprop\n",
    "from keras.utils import np_utils\n",
    "from keras import backend as K\n"
   ]
  },
  {
   "cell_type": "code",
   "execution_count": 158,
   "metadata": {
    "collapsed": false,
    "nbpresent": {
     "id": "ce562529-31eb-45e8-b1ae-97e2b19e5433"
    }
   },
   "outputs": [
    {
     "name": "stdout",
     "output_type": "stream",
     "text": [
      "35000 train samples\n",
      "35000 test samples\n",
      "____________________________________________________________________________________________________\n",
      "Layer (type)                     Output Shape          Param #     Connected to                     \n",
      "====================================================================================================\n",
      "dense_4 (Dense)                  (None, 512)           401920      dense_input_2[0][0]              \n",
      "____________________________________________________________________________________________________\n",
      "activation_4 (Activation)        (None, 512)           0           dense_4[0][0]                    \n",
      "____________________________________________________________________________________________________\n",
      "dropout_3 (Dropout)              (None, 512)           0           activation_4[0][0]               \n",
      "____________________________________________________________________________________________________\n",
      "dense_5 (Dense)                  (None, 512)           262656      dropout_3[0][0]                  \n",
      "____________________________________________________________________________________________________\n",
      "activation_5 (Activation)        (None, 512)           0           dense_5[0][0]                    \n",
      "____________________________________________________________________________________________________\n",
      "dropout_4 (Dropout)              (None, 512)           0           activation_5[0][0]               \n",
      "____________________________________________________________________________________________________\n",
      "dense_6 (Dense)                  (None, 10)            5130        dropout_4[0][0]                  \n",
      "____________________________________________________________________________________________________\n",
      "activation_6 (Activation)        (None, 10)            0           dense_6[0][0]                    \n",
      "====================================================================================================\n",
      "Total params: 669706\n",
      "____________________________________________________________________________________________________\n",
      "Train on 35000 samples, validate on 35000 samples\n",
      "Epoch 1/20\n",
      "35000/35000 [==============================] - 2s - loss: 0.3147 - acc: 0.9026 - val_loss: 0.1610 - val_acc: 0.9503\n",
      "Epoch 2/20\n",
      "35000/35000 [==============================] - 1s - loss: 0.1257 - acc: 0.9611 - val_loss: 0.1448 - val_acc: 0.9574\n",
      "Epoch 3/20\n",
      "35000/35000 [==============================] - 1s - loss: 0.0876 - acc: 0.9726 - val_loss: 0.1525 - val_acc: 0.9524\n",
      "Epoch 4/20\n",
      "35000/35000 [==============================] - 1s - loss: 0.0659 - acc: 0.9789 - val_loss: 0.0904 - val_acc: 0.9749\n",
      "Epoch 5/20\n",
      "35000/35000 [==============================] - 1s - loss: 0.0521 - acc: 0.9837 - val_loss: 0.0971 - val_acc: 0.9754\n",
      "Epoch 6/20\n",
      "35000/35000 [==============================] - 1s - loss: 0.0407 - acc: 0.9875 - val_loss: 0.1005 - val_acc: 0.9758\n",
      "Epoch 7/20\n",
      "35000/35000 [==============================] - 2s - loss: 0.0366 - acc: 0.9879 - val_loss: 0.1046 - val_acc: 0.9761\n",
      "Epoch 8/20\n",
      "35000/35000 [==============================] - 1s - loss: 0.0305 - acc: 0.9899 - val_loss: 0.1012 - val_acc: 0.9774\n",
      "Epoch 9/20\n",
      "35000/35000 [==============================] - 1s - loss: 0.0258 - acc: 0.9918 - val_loss: 0.1107 - val_acc: 0.9758\n",
      "Epoch 10/20\n",
      "35000/35000 [==============================] - 2s - loss: 0.0237 - acc: 0.9931 - val_loss: 0.1323 - val_acc: 0.9756\n",
      "Epoch 11/20\n",
      "35000/35000 [==============================] - 2s - loss: 0.0218 - acc: 0.9925 - val_loss: 0.1187 - val_acc: 0.9786\n",
      "Epoch 12/20\n",
      "35000/35000 [==============================] - 2s - loss: 0.0213 - acc: 0.9931 - val_loss: 0.1149 - val_acc: 0.9783\n",
      "Epoch 13/20\n",
      "35000/35000 [==============================] - 1s - loss: 0.0177 - acc: 0.9945 - val_loss: 0.1355 - val_acc: 0.9765\n",
      "Epoch 14/20\n",
      "35000/35000 [==============================] - 1s - loss: 0.0167 - acc: 0.9947 - val_loss: 0.1290 - val_acc: 0.9788\n",
      "Epoch 15/20\n",
      "35000/35000 [==============================] - 1s - loss: 0.0181 - acc: 0.9946 - val_loss: 0.1264 - val_acc: 0.9787\n",
      "Epoch 16/20\n",
      "35000/35000 [==============================] - 1s - loss: 0.0169 - acc: 0.9948 - val_loss: 0.1330 - val_acc: 0.9784\n",
      "Epoch 17/20\n",
      "35000/35000 [==============================] - 1s - loss: 0.0139 - acc: 0.9959 - val_loss: 0.1199 - val_acc: 0.9799\n",
      "Epoch 18/20\n",
      "35000/35000 [==============================] - 1s - loss: 0.0140 - acc: 0.9964 - val_loss: 0.1365 - val_acc: 0.9801\n",
      "Epoch 19/20\n",
      "35000/35000 [==============================] - 1s - loss: 0.0135 - acc: 0.9960 - val_loss: 0.1282 - val_acc: 0.9799\n",
      "Epoch 20/20\n",
      "35000/35000 [==============================] - 2s - loss: 0.0115 - acc: 0.9966 - val_loss: 0.1320 - val_acc: 0.9807\n",
      "Test score: 0.131971012858\n",
      "Test accuracy: 0.980685714286\n"
     ]
    }
   ],
   "source": [
    "X_train, X_test, y_train, y_test = train_test_split(mnist_df[features], \n",
    "                                                    mnist_df.target, test_size = 0.5, \n",
    "                                                    random_state = 0, stratify = mnist_df.target)\n",
    "\n",
    "batch_size = 128\n",
    "nb_classes = 10\n",
    "nb_epoch = 20\n",
    "\n",
    "X_train = X_train.values.astype('float32')\n",
    "X_test = X_test.values.astype('float32')\n",
    "X_train /= 255\n",
    "X_test /= 255\n",
    "print(X_train.shape[0], 'train samples')\n",
    "print(X_test.shape[0], 'test samples')\n",
    "\n",
    "# convert class vectors to binary class matrices\n",
    "Y_train = np_utils.to_categorical(y_train.values, nb_classes)\n",
    "Y_test = np_utils.to_categorical(y_test.values, nb_classes)\n",
    "\n",
    "model = Sequential()\n",
    "model.add(Dense(512, input_shape=(784,)))\n",
    "model.add(Activation('relu'))\n",
    "model.add(Dropout(0.2))\n",
    "model.add(Dense(512))\n",
    "model.add(Activation('relu'))\n",
    "model.add(Dropout(0.2))\n",
    "model.add(Dense(10))\n",
    "model.add(Activation('softmax'))\n",
    "\n",
    "model.summary()\n",
    "\n",
    "model.compile(loss='categorical_crossentropy',\n",
    "              optimizer=RMSprop(),\n",
    "              metrics=['accuracy'])\n",
    "\n",
    "history = model.fit(X_train, Y_train,\n",
    "                    batch_size=batch_size, nb_epoch=nb_epoch,\n",
    "                    verbose=1, validation_data=(X_test, Y_test))\n",
    "score = model.evaluate(X_test, Y_test, verbose=0)\n",
    "print('Test score:', score[0])\n",
    "print('Test accuracy:', score[1])"
   ]
  },
  {
   "cell_type": "code",
   "execution_count": 188,
   "metadata": {
    "collapsed": false,
    "nbpresent": {
     "id": "660e8782-495a-4ff3-8775-dee1ba123b8f"
    }
   },
   "outputs": [
    {
     "name": "stdout",
     "output_type": "stream",
     "text": [
      "X_train shape: (35000, 1, 28, 28)\n",
      "35000 train samples\n",
      "35000 test samples\n",
      "Train on 35000 samples, validate on 35000 samples\n",
      "Epoch 1/12\n",
      "35000/35000 [==============================] - 23s - loss: 0.4594 - acc: 0.8541 - val_loss: 0.1127 - val_acc: 0.9669\n",
      "Epoch 2/12\n",
      "35000/35000 [==============================] - 23s - loss: 0.1474 - acc: 0.9564 - val_loss: 0.0737 - val_acc: 0.9779\n",
      "Epoch 3/12\n",
      "35000/35000 [==============================] - 23s - loss: 0.1122 - acc: 0.9660 - val_loss: 0.0595 - val_acc: 0.9821\n",
      "Epoch 4/12\n",
      "35000/35000 [==============================] - 23s - loss: 0.0953 - acc: 0.9705 - val_loss: 0.0562 - val_acc: 0.9834\n",
      "Epoch 5/12\n",
      "35000/35000 [==============================] - 23s - loss: 0.0822 - acc: 0.9743 - val_loss: 0.0484 - val_acc: 0.9859\n",
      "Epoch 6/12\n",
      "35000/35000 [==============================] - 23s - loss: 0.0745 - acc: 0.9773 - val_loss: 0.0489 - val_acc: 0.9860\n",
      "Epoch 7/12\n",
      "35000/35000 [==============================] - 23s - loss: 0.0666 - acc: 0.9794 - val_loss: 0.0445 - val_acc: 0.9867\n",
      "Epoch 8/12\n",
      "35000/35000 [==============================] - 23s - loss: 0.0599 - acc: 0.9817 - val_loss: 0.0417 - val_acc: 0.9882\n",
      "Epoch 9/12\n",
      "35000/35000 [==============================] - 23s - loss: 0.0572 - acc: 0.9827 - val_loss: 0.0407 - val_acc: 0.9880\n",
      "Epoch 10/12\n",
      "35000/35000 [==============================] - 23s - loss: 0.0532 - acc: 0.9840 - val_loss: 0.0425 - val_acc: 0.9878\n",
      "Epoch 11/12\n",
      "35000/35000 [==============================] - 23s - loss: 0.0499 - acc: 0.9847 - val_loss: 0.0400 - val_acc: 0.9893\n",
      "Epoch 12/12\n",
      "35000/35000 [==============================] - 23s - loss: 0.0472 - acc: 0.9857 - val_loss: 0.0396 - val_acc: 0.9889\n",
      "Test score: 0.0395670513374\n",
      "Test accuracy: 0.988942857143\n"
     ]
    }
   ],
   "source": [
    "batch_size = 128\n",
    "nb_classes = 10\n",
    "nb_epoch = 12\n",
    "\n",
    "# input image dimensions\n",
    "img_rows, img_cols = 28, 28\n",
    "# number of convolutional filters to use\n",
    "nb_filters = 32\n",
    "# size of pooling area for max pooling\n",
    "pool_size = (2, 2)\n",
    "# convolution kernel size\n",
    "kernel_size = (3, 3)\n",
    "\n",
    "# the data, shuffled and split between train and test sets\n",
    "if K.image_dim_ordering() == 'th':\n",
    "    X_train = X_train.reshape(X_train.shape[0], 1, img_rows, img_cols)\n",
    "    X_test = X_test.reshape(X_test.shape[0], 1, img_rows, img_cols)\n",
    "    input_shape = (1, img_rows, img_cols)\n",
    "else:\n",
    "    X_train = X_train.reshape(X_train.shape[0], img_rows, img_cols, 1)\n",
    "    X_test = X_test.reshape(X_test.shape[0], img_rows, img_cols, 1)\n",
    "    input_shape = (img_rows, img_cols, 1)\n",
    "\n",
    "#X_train = X_train.astype('float32')\n",
    "#X_test = X_test.astype('float32')\n",
    "#X_train /= 255\n",
    "#X_test /= 255\n",
    "print('X_train shape:', X_train.shape)\n",
    "print(X_train.shape[0], 'train samples')\n",
    "print(X_test.shape[0], 'test samples')\n",
    "\n",
    "model = Sequential()\n",
    "\n",
    "model.add(Convolution2D(nb_filters, kernel_size[0], kernel_size[1],\n",
    "                        border_mode='valid',\n",
    "                        input_shape=input_shape))\n",
    "model.add(Activation('relu'))\n",
    "model.add(Convolution2D(nb_filters, kernel_size[0], kernel_size[1]))\n",
    "model.add(Activation('relu'))\n",
    "model.add(Convolution2D(nb_filters, kernel_size[0], kernel_size[1]))\n",
    "model.add(Activation('relu'))\n",
    "model.add(MaxPooling2D(pool_size=pool_size))\n",
    "model.add(Dropout(0.25))\n",
    "\n",
    "model.add(Flatten())\n",
    "model.add(Dense(128))\n",
    "model.add(Activation('relu'))\n",
    "model.add(Dropout(0.5))\n",
    "model.add(Dense(nb_classes))\n",
    "model.add(Activation('softmax'))\n",
    "\n",
    "model.compile(loss='categorical_crossentropy',\n",
    "              optimizer='adadelta',\n",
    "              metrics=['accuracy'])\n",
    "\n",
    "model.fit(X_train, Y_train, batch_size=batch_size, nb_epoch=nb_epoch,\n",
    "          verbose=1, validation_data=(X_test, Y_test))\n",
    "score = model.evaluate(X_test, Y_test, verbose=0)\n",
    "print('Test score:', score[0])\n",
    "print('Test accuracy:', score[1])"
   ]
  },
  {
   "cell_type": "code",
   "execution_count": 179,
   "metadata": {
    "collapsed": false,
    "nbpresent": {
     "id": "c8455e9d-f663-49b0-9b3f-f7e97f5ef1e8"
    }
   },
   "outputs": [
    {
     "data": {
      "text/plain": [
       "[<keras.layers.convolutional.Convolution2D at 0x7fc786315d68>,\n",
       " <keras.layers.core.Activation at 0x7fc786315dd8>,\n",
       " <keras.layers.convolutional.Convolution2D at 0x7fc7862fe550>,\n",
       " <keras.layers.core.Activation at 0x7fc7862fe710>,\n",
       " <keras.layers.pooling.MaxPooling2D at 0x7fc785ad10f0>,\n",
       " <keras.layers.core.Dropout at 0x7fc7867a2a20>,\n",
       " <keras.layers.core.Flatten at 0x7fc7867b1898>,\n",
       " <keras.layers.core.Dense at 0x7fc785a8bfd0>,\n",
       " <keras.layers.core.Activation at 0x7fc785a8bf28>,\n",
       " <keras.layers.core.Dropout at 0x7fc785a9c048>,\n",
       " <keras.layers.core.Dense at 0x7fc785ab19e8>,\n",
       " <keras.layers.core.Activation at 0x7fc785a3c860>]"
      ]
     },
     "execution_count": 179,
     "metadata": {},
     "output_type": "execute_result"
    }
   ],
   "source": [
    "model.layers"
   ]
  },
  {
   "cell_type": "code",
   "execution_count": 187,
   "metadata": {
    "collapsed": false,
    "nbpresent": {
     "id": "0484c62b-b7ee-4fd4-8a8c-ef83ad49e546"
    }
   },
   "outputs": [
    {
     "data": {
      "text/plain": [
       "array([[[-0.08900257, -0.24661139, -0.15455596],\n",
       "        [ 0.16776082,  0.11650044,  0.12082494],\n",
       "        [ 0.06009205,  0.09314613,  0.19738637]]], dtype=float32)"
      ]
     },
     "execution_count": 187,
     "metadata": {},
     "output_type": "execute_result"
    }
   ],
   "source": [
    "model.layers[0].get_weights()[0][2,:,:]"
   ]
  },
  {
   "cell_type": "code",
   "execution_count": 190,
   "metadata": {
    "collapsed": false,
    "nbpresent": {
     "id": "d2d214b2-a977-4c48-bc4b-6b8000858197"
    }
   },
   "outputs": [
    {
     "data": {
      "text/html": [
       "<img src=\"https://i.warosu.org/data/sci/img/0073/62/1435656449422.png \"/>"
      ],
      "text/plain": [
       "<IPython.core.display.Image object>"
      ]
     },
     "execution_count": 190,
     "metadata": {},
     "output_type": "execute_result"
    }
   ],
   "source": [
    "from IPython.display import Image\n",
    "from IPython.core.display import HTML \n",
    "Image(url = 'https://i.warosu.org/data/sci/img/0073/62/1435656449422.png ')"
   ]
  },
  {
   "cell_type": "code",
   "execution_count": null,
   "metadata": {
    "collapsed": true,
    "nbpresent": {
     "id": "2eca1804-cfb2-40c6-8a17-b5169d9e9205"
    }
   },
   "outputs": [],
   "source": []
  }
 ],
 "metadata": {
  "kernelspec": {
   "display_name": "Python 3",
   "language": "python",
   "name": "python3"
  },
  "language_info": {
   "codemirror_mode": {
    "name": "ipython",
    "version": 3
   },
   "file_extension": ".py",
   "mimetype": "text/x-python",
   "name": "python",
   "nbconvert_exporter": "python",
   "pygments_lexer": "ipython3",
   "version": "3.5.1"
  },
  "nbpresent": {
   "slides": {
    "03cfac57-2691-45e4-ad9b-6e8f884f7269": {
     "id": "03cfac57-2691-45e4-ad9b-6e8f884f7269",
     "prev": "a76f3e51-b3c5-42b0-a47c-428c2262c17f",
     "regions": {
      "16c8ce64-274c-4b00-961f-d4991967caa5": {
       "attrs": {
        "height": 0.8,
        "width": 0.8,
        "x": 0.1,
        "y": 0.1
       },
       "content": {
        "cell": "2eca1804-cfb2-40c6-8a17-b5169d9e9205",
        "part": "whole"
       },
       "id": "16c8ce64-274c-4b00-961f-d4991967caa5"
      }
     }
    },
    "05c8b622-afd9-43bb-b28d-bc29ad27a284": {
     "id": "05c8b622-afd9-43bb-b28d-bc29ad27a284",
     "prev": "938fcc93-a662-4b90-9fdc-1881ba29c7e5",
     "regions": {
      "738fca9a-e50f-454e-9f50-6c556991a7d1": {
       "attrs": {
        "height": 0.8,
        "width": 0.8,
        "x": 0.1,
        "y": 0.1
       },
       "content": {
        "cell": "fa67218f-68e2-45e8-8850-069f3600e36b",
        "part": "whole"
       },
       "id": "738fca9a-e50f-454e-9f50-6c556991a7d1"
      }
     }
    },
    "11427219-0dad-47fe-bbc1-6b2cece3cb91": {
     "id": "11427219-0dad-47fe-bbc1-6b2cece3cb91",
     "prev": "8877798f-c3cc-4cb9-a874-388f3d9e06df",
     "regions": {
      "44409097-256c-4219-bdbd-f3b355e5428b": {
       "attrs": {
        "height": 0.8,
        "width": 0.8,
        "x": 0.1,
        "y": 0.1
       },
       "content": {
        "cell": "9d26311b-0402-48c1-a2b4-b8f15a4ffa4b",
        "part": "whole"
       },
       "id": "44409097-256c-4219-bdbd-f3b355e5428b"
      }
     }
    },
    "115119a0-9937-482d-b20d-26a9b7715c01": {
     "id": "115119a0-9937-482d-b20d-26a9b7715c01",
     "prev": "2ed6a4a4-8b74-4e3d-974c-b7744fccb95e",
     "regions": {
      "96ac3db1-1e66-4fa0-8af5-485d55c62aa2": {
       "attrs": {
        "height": 0.8,
        "width": 0.8,
        "x": 0.1,
        "y": 0.1
       },
       "content": {
        "cell": "09818162-a98a-4759-802c-4d7270739b6d",
        "part": "whole"
       },
       "id": "96ac3db1-1e66-4fa0-8af5-485d55c62aa2"
      }
     }
    },
    "17f541c9-4669-47dc-bd3d-e50f8c067d58": {
     "id": "17f541c9-4669-47dc-bd3d-e50f8c067d58",
     "prev": "6ef4a413-dfcb-4521-a1e3-bee5f4821732",
     "regions": {
      "5799a549-e6e9-4553-9128-7719f82539cd": {
       "attrs": {
        "height": 0.8,
        "width": 0.8,
        "x": 0.1,
        "y": 0.1
       },
       "content": {
        "cell": "0e83ddb1-deb8-45a7-910c-2bb0a16ae106",
        "part": "whole"
       },
       "id": "5799a549-e6e9-4553-9128-7719f82539cd"
      }
     }
    },
    "18d44387-63c9-4fed-a52b-df9c01ae3049": {
     "id": "18d44387-63c9-4fed-a52b-df9c01ae3049",
     "prev": "f0197e47-49c1-48e3-96de-6f9ecc555fd7",
     "regions": {
      "c65ea79a-e1ca-41c7-8c55-d45ca3b49529": {
       "attrs": {
        "height": 0.8,
        "width": 0.8,
        "x": 0.1,
        "y": 0.1
       },
       "content": {
        "cell": "04626c78-cf66-48dc-97a0-34e6df097540",
        "part": "whole"
       },
       "id": "c65ea79a-e1ca-41c7-8c55-d45ca3b49529"
      }
     }
    },
    "192830e6-0873-44a8-baa0-16d0aa1a273f": {
     "id": "192830e6-0873-44a8-baa0-16d0aa1a273f",
     "prev": "a3eaf33d-ddd5-4f43-b5bd-6c3115a4942d",
     "regions": {
      "8ed42599-a7d7-4181-92c3-39c67caeae7b": {
       "attrs": {
        "height": 0.8,
        "width": 0.8,
        "x": 0.1,
        "y": 0.1
       },
       "content": {
        "cell": "fe4d6a1c-f930-400b-9890-328b0cd53705",
        "part": "whole"
       },
       "id": "8ed42599-a7d7-4181-92c3-39c67caeae7b"
      }
     }
    },
    "1bfd1080-225c-4c12-9d67-37c07ee27883": {
     "id": "1bfd1080-225c-4c12-9d67-37c07ee27883",
     "prev": "a079a416-2249-4452-bbcd-9bc9fdf09f6f",
     "regions": {
      "10c32da3-ff38-4f02-8eae-56e5d355f743": {
       "attrs": {
        "height": 0.8,
        "width": 0.8,
        "x": 0.1,
        "y": 0.1
       },
       "content": {
        "cell": "df684f3a-9d8a-4e52-8950-afd59d383a5d",
        "part": "whole"
       },
       "id": "10c32da3-ff38-4f02-8eae-56e5d355f743"
      }
     }
    },
    "2028498a-14da-460b-908f-7413b704caa4": {
     "id": "2028498a-14da-460b-908f-7413b704caa4",
     "prev": "76b281c7-b793-4d74-8a10-ef5de44f2f2b",
     "regions": {
      "1a9a87c7-08cb-448b-8644-afcfa2e06c4c": {
       "attrs": {
        "height": 0.8,
        "width": 0.8,
        "x": 0.1,
        "y": 0.1
       },
       "content": {
        "cell": "d0cae2a4-6306-40f2-87a7-9d3c61043f44",
        "part": "whole"
       },
       "id": "1a9a87c7-08cb-448b-8644-afcfa2e06c4c"
      }
     }
    },
    "20ccff14-3cbb-4fcf-9924-4cd2b7e46009": {
     "id": "20ccff14-3cbb-4fcf-9924-4cd2b7e46009",
     "prev": "c4961315-1136-424d-a02e-713984e14bb6",
     "regions": {
      "89117f15-e6c2-4612-9dd7-5d0061aec2c1": {
       "attrs": {
        "height": 0.8,
        "width": 0.8,
        "x": 0.1,
        "y": 0.1
       },
       "content": {
        "cell": "6d5275b5-a9b8-40e0-8ccb-6499e69da283",
        "part": "whole"
       },
       "id": "89117f15-e6c2-4612-9dd7-5d0061aec2c1"
      }
     }
    },
    "23fcd6fd-4047-434a-b316-16bcab4be6fd": {
     "id": "23fcd6fd-4047-434a-b316-16bcab4be6fd",
     "prev": "3c1abe60-8f54-45e1-bb9d-baff906324ee",
     "regions": {
      "f84a6384-280f-481e-ae8f-35f76b9331c8": {
       "attrs": {
        "height": 0.8,
        "width": 0.8,
        "x": 0.1,
        "y": 0.1
       },
       "content": {
        "cell": "c8455e9d-f663-49b0-9b3f-f7e97f5ef1e8",
        "part": "whole"
       },
       "id": "f84a6384-280f-481e-ae8f-35f76b9331c8"
      }
     }
    },
    "2a15e7a5-0148-4931-92a4-c6ef8a7aab7c": {
     "id": "2a15e7a5-0148-4931-92a4-c6ef8a7aab7c",
     "prev": "3e12d679-83d8-4fdc-a2ed-0d09fc1d9a17",
     "regions": {
      "5b356023-8d98-47a6-b145-ee07e8a6c8b2": {
       "attrs": {
        "height": 0.8,
        "width": 0.8,
        "x": 0.1,
        "y": 0.1
       },
       "content": {
        "cell": "2533c8ea-5870-45ac-a3ec-da832886cd9e",
        "part": "whole"
       },
       "id": "5b356023-8d98-47a6-b145-ee07e8a6c8b2"
      }
     }
    },
    "2aa8cd93-30d1-420d-bc83-be9e0b6d4285": {
     "id": "2aa8cd93-30d1-420d-bc83-be9e0b6d4285",
     "prev": "bd6ec894-de88-432b-b48a-b2da152180d9",
     "regions": {
      "2fa7d345-efeb-4ff0-9765-7fb408fa5e2b": {
       "attrs": {
        "height": 0.8,
        "width": 0.8,
        "x": 0.1,
        "y": 0.1
       },
       "content": {
        "cell": "95c3ae9f-977a-4098-8972-0e7ffacbe1f4",
        "part": "whole"
       },
       "id": "2fa7d345-efeb-4ff0-9765-7fb408fa5e2b"
      }
     }
    },
    "2b104c68-d0d7-4b3f-9c2d-b510ade630cc": {
     "id": "2b104c68-d0d7-4b3f-9c2d-b510ade630cc",
     "prev": "d539cabc-fcb0-44d1-8cef-a98167017b05",
     "regions": {
      "8635b3ee-4d52-436f-b8a3-1f3e15a31c59": {
       "attrs": {
        "height": 0.8,
        "width": 0.8,
        "x": 0.1,
        "y": 0.1
       },
       "content": {
        "cell": "203e57ac-cd74-439b-b159-de01c86427a3",
        "part": "whole"
       },
       "id": "8635b3ee-4d52-436f-b8a3-1f3e15a31c59"
      }
     }
    },
    "2ed6a4a4-8b74-4e3d-974c-b7744fccb95e": {
     "id": "2ed6a4a4-8b74-4e3d-974c-b7744fccb95e",
     "prev": "78adb73f-54c8-4076-bb04-d581e0a2aa0e",
     "regions": {
      "0b21a558-a3b8-4db3-b9b0-95f04d30645d": {
       "attrs": {
        "height": 0.8,
        "width": 0.8,
        "x": 0.1,
        "y": 0.1
       },
       "content": {
        "cell": "785b6cab-eeb2-4183-b820-6bdf80cd66c0",
        "part": "whole"
       },
       "id": "0b21a558-a3b8-4db3-b9b0-95f04d30645d"
      }
     }
    },
    "3038d7d6-203c-4ce7-91f1-40fa329c5ad6": {
     "id": "3038d7d6-203c-4ce7-91f1-40fa329c5ad6",
     "prev": "78f0b9f6-5df9-4bd6-ab27-f56e6cf2962c",
     "regions": {
      "492a47a6-3cee-49f0-b511-3aa4ea6204b6": {
       "attrs": {
        "height": 0.8,
        "width": 0.8,
        "x": 0.1,
        "y": 0.1
       },
       "content": {
        "cell": "eb704be9-3ae1-4d2a-adcf-cb224ade5ab2",
        "part": "whole"
       },
       "id": "492a47a6-3cee-49f0-b511-3aa4ea6204b6"
      }
     }
    },
    "3156739b-c857-4adf-a569-a4fa31ee9a26": {
     "id": "3156739b-c857-4adf-a569-a4fa31ee9a26",
     "prev": "2aa8cd93-30d1-420d-bc83-be9e0b6d4285",
     "regions": {
      "5f57b628-5254-40a1-92ed-e7ed6548db68": {
       "attrs": {
        "height": 0.8,
        "width": 0.8,
        "x": 0.1,
        "y": 0.1
       },
       "content": {
        "cell": "5bb6676c-88a4-4778-8591-987c9ef4bca2",
        "part": "whole"
       },
       "id": "5f57b628-5254-40a1-92ed-e7ed6548db68"
      }
     }
    },
    "3586b75d-a24e-43a6-aa1e-12287132d034": {
     "id": "3586b75d-a24e-43a6-aa1e-12287132d034",
     "prev": "bf878646-b6df-4e7d-9717-bebfadf3eb1f",
     "regions": {
      "61941f30-bcaa-4657-ad36-ae2137dedc27": {
       "attrs": {
        "height": 0.8,
        "width": 0.8,
        "x": 0.1,
        "y": 0.1
       },
       "content": {
        "cell": "1fd1a6f0-30dd-4218-89f0-25d7044711ec",
        "part": "whole"
       },
       "id": "61941f30-bcaa-4657-ad36-ae2137dedc27"
      }
     }
    },
    "38f64be6-8b27-4835-929e-bff345fbdace": {
     "id": "38f64be6-8b27-4835-929e-bff345fbdace",
     "prev": "3d6759ae-ab7c-41e4-863f-2fe4378b9716",
     "regions": {
      "a1ba75c5-76ed-4651-a06a-a2ea0071a8d1": {
       "attrs": {
        "height": 0.8,
        "width": 0.8,
        "x": 0.1,
        "y": 0.1
       },
       "content": {
        "cell": "a8099543-3e8d-48b9-94c3-a2ccc037725e",
        "part": "whole"
       },
       "id": "a1ba75c5-76ed-4651-a06a-a2ea0071a8d1"
      }
     }
    },
    "39475adb-3914-48c9-8d05-20e414bd8783": {
     "id": "39475adb-3914-48c9-8d05-20e414bd8783",
     "prev": "675402df-b809-4642-9777-c0bd015227a8",
     "regions": {
      "2b2a21e2-b1dc-4e97-90b2-fa4ec0f56516": {
       "attrs": {
        "height": 0.8,
        "width": 0.8,
        "x": 0.1,
        "y": 0.1
       },
       "content": {
        "cell": "b3a6d1f1-211d-4b82-b6d7-da76817d8ee5",
        "part": "whole"
       },
       "id": "2b2a21e2-b1dc-4e97-90b2-fa4ec0f56516"
      }
     }
    },
    "39b427a0-22d5-47b8-9dfe-261afcc6206b": {
     "id": "39b427a0-22d5-47b8-9dfe-261afcc6206b",
     "prev": "3156739b-c857-4adf-a569-a4fa31ee9a26",
     "regions": {
      "421419d7-5a8d-4203-94fe-7308fb3afbc2": {
       "attrs": {
        "height": 0.8,
        "width": 0.8,
        "x": 0.1,
        "y": 0.1
       },
       "content": {
        "cell": "6183dbc8-92e8-4d5a-8265-13355de44a31",
        "part": "whole"
       },
       "id": "421419d7-5a8d-4203-94fe-7308fb3afbc2"
      }
     }
    },
    "3b47544d-8d76-4511-85a5-5bfbd3704288": {
     "id": "3b47544d-8d76-4511-85a5-5bfbd3704288",
     "prev": "d3d28f87-9c3b-4508-8a80-e6288ea1bb39",
     "regions": {
      "0b45cbc2-52d7-4aa8-a6c2-779cea62e9ea": {
       "attrs": {
        "height": 0.8,
        "width": 0.8,
        "x": 0.1,
        "y": 0.1
       },
       "content": {
        "cell": "4df354ed-a93c-4a05-a2a6-0ef6169d752e",
        "part": "whole"
       },
       "id": "0b45cbc2-52d7-4aa8-a6c2-779cea62e9ea"
      }
     }
    },
    "3c0f97bc-8bd2-4e31-a8d5-d0fc7c8b142f": {
     "id": "3c0f97bc-8bd2-4e31-a8d5-d0fc7c8b142f",
     "prev": "05c8b622-afd9-43bb-b28d-bc29ad27a284",
     "regions": {
      "3c32d89f-04e9-43b8-a1a2-6a4a04559aa6": {
       "attrs": {
        "height": 0.8,
        "width": 0.8,
        "x": 0.1,
        "y": 0.1
       },
       "content": {
        "cell": "9d8bc161-76bf-46c6-9a32-f892ad1c5d8d",
        "part": "whole"
       },
       "id": "3c32d89f-04e9-43b8-a1a2-6a4a04559aa6"
      }
     }
    },
    "3c1abe60-8f54-45e1-bb9d-baff906324ee": {
     "id": "3c1abe60-8f54-45e1-bb9d-baff906324ee",
     "prev": "7ceec031-4d1d-4ba5-8a1b-870c331a7e2e",
     "regions": {
      "e5371c58-ad4f-4b85-9501-96c5e0f445db": {
       "attrs": {
        "height": 0.8,
        "width": 0.8,
        "x": 0.1,
        "y": 0.1
       },
       "content": {
        "cell": "660e8782-495a-4ff3-8775-dee1ba123b8f",
        "part": "whole"
       },
       "id": "e5371c58-ad4f-4b85-9501-96c5e0f445db"
      }
     }
    },
    "3d6759ae-ab7c-41e4-863f-2fe4378b9716": {
     "id": "3d6759ae-ab7c-41e4-863f-2fe4378b9716",
     "prev": "7b178bd1-870f-47d9-b3c6-132555a398ab",
     "regions": {
      "c7df86ce-49b7-4240-beda-66760a6c92de": {
       "attrs": {
        "height": 0.8,
        "width": 0.8,
        "x": 0.1,
        "y": 0.1
       },
       "content": {
        "cell": "0e603f2d-af2e-452e-af58-d57d7db06f18",
        "part": "whole"
       },
       "id": "c7df86ce-49b7-4240-beda-66760a6c92de"
      }
     }
    },
    "3e12d679-83d8-4fdc-a2ed-0d09fc1d9a17": {
     "id": "3e12d679-83d8-4fdc-a2ed-0d09fc1d9a17",
     "prev": "ea696e7a-2b8e-43cc-abc4-d734f365f493",
     "regions": {
      "608c48e1-be17-4527-a6d3-23bfcffc89e4": {
       "attrs": {
        "height": 0.8,
        "width": 0.8,
        "x": 0.1,
        "y": 0.1
       },
       "content": {
        "cell": "4cf0d81f-8870-4930-9e36-388afc5ef618",
        "part": "whole"
       },
       "id": "608c48e1-be17-4527-a6d3-23bfcffc89e4"
      }
     }
    },
    "3eb339be-c037-4d52-a7f8-9bf4dd812fb2": {
     "id": "3eb339be-c037-4d52-a7f8-9bf4dd812fb2",
     "prev": "86bfc748-556e-416e-8233-2009ae0afe0d",
     "regions": {
      "2244043b-4d66-4b4f-a609-1872c7979cb2": {
       "attrs": {
        "height": 0.8,
        "width": 0.8,
        "x": 0.1,
        "y": 0.1
       },
       "content": {
        "cell": "d4480c2c-b796-47de-8093-c8596c5a9a4d",
        "part": "whole"
       },
       "id": "2244043b-4d66-4b4f-a609-1872c7979cb2"
      }
     }
    },
    "446bf9d0-7578-45b4-b5d3-792369c87432": {
     "id": "446bf9d0-7578-45b4-b5d3-792369c87432",
     "prev": "eeb9ae84-c104-4126-9710-90c3f7873149",
     "regions": {
      "be06e735-b04f-4816-b681-4a78864eb290": {
       "attrs": {
        "height": 0.8,
        "width": 0.8,
        "x": 0.1,
        "y": 0.1
       },
       "content": {
        "cell": "baf2206b-2c71-46cb-8857-07a371a8ff2f",
        "part": "whole"
       },
       "id": "be06e735-b04f-4816-b681-4a78864eb290"
      }
     }
    },
    "4c2f58c0-0b58-4838-b26e-fe316f41041d": {
     "id": "4c2f58c0-0b58-4838-b26e-fe316f41041d",
     "prev": "17f541c9-4669-47dc-bd3d-e50f8c067d58",
     "regions": {
      "7ab916c6-00d5-4554-a51b-c0706b96d4e8": {
       "attrs": {
        "height": 0.8,
        "width": 0.8,
        "x": 0.1,
        "y": 0.1
       },
       "content": {
        "cell": "f0ea96a3-1add-421e-84c5-6eca2cdf656f",
        "part": "whole"
       },
       "id": "7ab916c6-00d5-4554-a51b-c0706b96d4e8"
      }
     }
    },
    "4f6586d4-4f74-4e2f-add1-20e6fb567de6": {
     "id": "4f6586d4-4f74-4e2f-add1-20e6fb567de6",
     "prev": "39b427a0-22d5-47b8-9dfe-261afcc6206b",
     "regions": {
      "cc01ddff-207e-482e-a824-0d879065a691": {
       "attrs": {
        "height": 0.8,
        "width": 0.8,
        "x": 0.1,
        "y": 0.1
       },
       "content": {
        "cell": "8d49a8d0-c816-4c55-9e67-9747ab69582b",
        "part": "whole"
       },
       "id": "cc01ddff-207e-482e-a824-0d879065a691"
      }
     }
    },
    "50a66601-f076-446d-83bc-9eee3b08f2ab": {
     "id": "50a66601-f076-446d-83bc-9eee3b08f2ab",
     "prev": "f004b5cd-a300-43a8-8d00-730279849419",
     "regions": {
      "0f3a8038-37dd-4846-a27c-3fdfce997e6c": {
       "attrs": {
        "height": 0.8,
        "width": 0.8,
        "x": 0.1,
        "y": 0.1
       },
       "content": {
        "cell": "d19d0aa1-c7f4-44e0-a336-a77e6ca4b15b",
        "part": "whole"
       },
       "id": "0f3a8038-37dd-4846-a27c-3fdfce997e6c"
      }
     }
    },
    "5492a653-f01b-455f-a89b-05c34a09cbd0": {
     "id": "5492a653-f01b-455f-a89b-05c34a09cbd0",
     "prev": "8b01c9de-a308-4293-a4c6-66df392f527b",
     "regions": {
      "ecbc6d7f-0faa-4de2-afed-84728d251203": {
       "attrs": {
        "height": 0.8,
        "width": 0.8,
        "x": 0.1,
        "y": 0.1
       },
       "content": {
        "cell": "0bf1c793-05fc-4e53-b0a8-eeb3473a16d3",
        "part": "whole"
       },
       "id": "ecbc6d7f-0faa-4de2-afed-84728d251203"
      }
     }
    },
    "59882186-91da-484c-89fa-7e7a955fd798": {
     "id": "59882186-91da-484c-89fa-7e7a955fd798",
     "prev": "38f64be6-8b27-4835-929e-bff345fbdace",
     "regions": {
      "3e2a5372-0563-46c9-af8d-61b18abcac77": {
       "attrs": {
        "height": 0.8,
        "width": 0.8,
        "x": 0.1,
        "y": 0.1
       },
       "content": {
        "cell": "a2c00371-76da-46a0-8761-0dda41c13094",
        "part": "whole"
       },
       "id": "3e2a5372-0563-46c9-af8d-61b18abcac77"
      }
     }
    },
    "61bd5f52-bbcb-43f6-b157-683cb65f6b92": {
     "id": "61bd5f52-bbcb-43f6-b157-683cb65f6b92",
     "prev": "59882186-91da-484c-89fa-7e7a955fd798",
     "regions": {
      "cce6fca2-f95f-44b1-97a3-327e6859f455": {
       "attrs": {
        "height": 0.8,
        "width": 0.8,
        "x": 0.1,
        "y": 0.1
       },
       "content": {
        "cell": "df87a371-8c4e-4c59-a973-4ff2d86c414a",
        "part": "whole"
       },
       "id": "cce6fca2-f95f-44b1-97a3-327e6859f455"
      }
     }
    },
    "664a007d-fc4b-47b2-bf6e-d19ea479f6ac": {
     "id": "664a007d-fc4b-47b2-bf6e-d19ea479f6ac",
     "prev": "6b5d91dc-a0b8-430f-82ee-f2f047374e1e",
     "regions": {
      "1d1354a8-3fde-493f-aad7-318291689d22": {
       "attrs": {
        "height": 0.8,
        "width": 0.8,
        "x": 0.1,
        "y": 0.1
       },
       "content": {
        "cell": "29a0e017-5bba-4e47-8bdf-f6f55b91c5cf",
        "part": "whole"
       },
       "id": "1d1354a8-3fde-493f-aad7-318291689d22"
      }
     }
    },
    "675402df-b809-4642-9777-c0bd015227a8": {
     "id": "675402df-b809-4642-9777-c0bd015227a8",
     "prev": "6c4e762e-ad31-4bd4-9b8a-53d11ffdfe9d",
     "regions": {
      "942321e6-ba29-4e85-ac78-170fcf57c9ac": {
       "attrs": {
        "height": 0.8,
        "width": 0.8,
        "x": 0.1,
        "y": 0.1
       },
       "content": {
        "cell": "b79e8e0e-de09-4c0a-8ec2-7ee94089195f",
        "part": "whole"
       },
       "id": "942321e6-ba29-4e85-ac78-170fcf57c9ac"
      }
     }
    },
    "6b5d91dc-a0b8-430f-82ee-f2f047374e1e": {
     "id": "6b5d91dc-a0b8-430f-82ee-f2f047374e1e",
     "prev": "af862f98-d36c-47c7-ae30-4874744f8ce0",
     "regions": {
      "dd1e1108-e4f7-4973-b576-34925d51683a": {
       "attrs": {
        "height": 0.8,
        "width": 0.8,
        "x": 0.1,
        "y": 0.1
       },
       "content": {
        "cell": "ab5edad8-22ed-45ac-92fc-341c00130632",
        "part": "whole"
       },
       "id": "dd1e1108-e4f7-4973-b576-34925d51683a"
      }
     }
    },
    "6c4e762e-ad31-4bd4-9b8a-53d11ffdfe9d": {
     "id": "6c4e762e-ad31-4bd4-9b8a-53d11ffdfe9d",
     "prev": "8e223579-4f25-4e17-8fcd-763c34250bf3",
     "regions": {
      "083906cf-5ba9-4926-aabf-12ff6d5adf5c": {
       "attrs": {
        "height": 0.8,
        "width": 0.8,
        "x": 0.1,
        "y": 0.1
       },
       "content": {
        "cell": "47646988-450e-4240-8861-4ff01eab7647",
        "part": "whole"
       },
       "id": "083906cf-5ba9-4926-aabf-12ff6d5adf5c"
      }
     }
    },
    "6ef4a413-dfcb-4521-a1e3-bee5f4821732": {
     "id": "6ef4a413-dfcb-4521-a1e3-bee5f4821732",
     "prev": "3038d7d6-203c-4ce7-91f1-40fa329c5ad6",
     "regions": {
      "dec9ac22-6acf-4173-8d8c-ceeccb42208e": {
       "attrs": {
        "height": 0.8,
        "width": 0.8,
        "x": 0.1,
        "y": 0.1
       },
       "content": {
        "cell": "b714a1e2-b64f-40ca-8c50-12a767a2ac3e",
        "part": "whole"
       },
       "id": "dec9ac22-6acf-4173-8d8c-ceeccb42208e"
      }
     }
    },
    "70990971-af35-4e84-85c7-88b5caafdada": {
     "id": "70990971-af35-4e84-85c7-88b5caafdada",
     "prev": "f88a8289-c2bd-4417-b796-4f06333f00e6",
     "regions": {
      "510f0850-184d-4349-bade-45d184245395": {
       "attrs": {
        "height": 0.8,
        "width": 0.8,
        "x": 0.1,
        "y": 0.1
       },
       "content": {
        "cell": "58d59594-c920-495f-acd2-2fb7e36e2826",
        "part": "whole"
       },
       "id": "510f0850-184d-4349-bade-45d184245395"
      }
     }
    },
    "7177d7a3-4f7d-4f9f-8ca5-bb812c4f532e": {
     "id": "7177d7a3-4f7d-4f9f-8ca5-bb812c4f532e",
     "prev": "f08f0793-b971-4fe7-876d-5a6c30475271",
     "regions": {
      "9271ee1b-6df6-4af1-8ff3-bc69eeb2fbcc": {
       "attrs": {
        "height": 0.8,
        "width": 0.8,
        "x": 0.1,
        "y": 0.1
       },
       "content": {
        "cell": "bb0ee837-14fa-46f5-825c-3857ca2478da",
        "part": "whole"
       },
       "id": "9271ee1b-6df6-4af1-8ff3-bc69eeb2fbcc"
      }
     }
    },
    "74ff851a-f987-4b65-bbe5-5025953fba65": {
     "id": "74ff851a-f987-4b65-bbe5-5025953fba65",
     "prev": "115119a0-9937-482d-b20d-26a9b7715c01",
     "regions": {
      "1499740d-8a3c-4a45-9d62-6147da703c55": {
       "attrs": {
        "height": 0.8,
        "width": 0.8,
        "x": 0.1,
        "y": 0.1
       },
       "content": {
        "cell": "82e77658-5f9f-482d-9272-8668a8f6d0eb",
        "part": "whole"
       },
       "id": "1499740d-8a3c-4a45-9d62-6147da703c55"
      }
     }
    },
    "76b281c7-b793-4d74-8a10-ef5de44f2f2b": {
     "id": "76b281c7-b793-4d74-8a10-ef5de44f2f2b",
     "prev": "c5d02907-187d-453a-bb36-b98954c07d0f",
     "regions": {
      "617032c8-61cb-4560-8064-f32de0206260": {
       "attrs": {
        "height": 0.8,
        "width": 0.8,
        "x": 0.1,
        "y": 0.1
       },
       "content": {
        "cell": "06dd3757-db69-4b38-b5a4-287b84291200",
        "part": "whole"
       },
       "id": "617032c8-61cb-4560-8064-f32de0206260"
      }
     }
    },
    "78992e4c-e738-4e77-99cc-3045663ff6aa": {
     "id": "78992e4c-e738-4e77-99cc-3045663ff6aa",
     "prev": "efaaee7d-2bf4-4c02-9f02-011184a5e62c",
     "regions": {
      "58466871-12f2-41f3-9d09-4afd2d93851f": {
       "attrs": {
        "height": 0.8,
        "width": 0.8,
        "x": 0.1,
        "y": 0.1
       },
       "content": {
        "cell": "b77afb7c-b570-4d23-9ca4-3b275a4eaee9",
        "part": "whole"
       },
       "id": "58466871-12f2-41f3-9d09-4afd2d93851f"
      }
     }
    },
    "78adb73f-54c8-4076-bb04-d581e0a2aa0e": {
     "id": "78adb73f-54c8-4076-bb04-d581e0a2aa0e",
     "prev": "78992e4c-e738-4e77-99cc-3045663ff6aa",
     "regions": {
      "0e5c8c52-a6bb-462d-99be-4949da0fb8f6": {
       "attrs": {
        "height": 0.8,
        "width": 0.8,
        "x": 0.1,
        "y": 0.1
       },
       "content": {
        "cell": "4cbe4bf6-857a-458c-a11f-1356d9aba840",
        "part": "whole"
       },
       "id": "0e5c8c52-a6bb-462d-99be-4949da0fb8f6"
      }
     }
    },
    "78f0b9f6-5df9-4bd6-ab27-f56e6cf2962c": {
     "id": "78f0b9f6-5df9-4bd6-ab27-f56e6cf2962c",
     "prev": "2b104c68-d0d7-4b3f-9c2d-b510ade630cc",
     "regions": {
      "e20fa161-c722-4ca3-8ea7-20947207f7cf": {
       "attrs": {
        "height": 0.8,
        "width": 0.8,
        "x": 0.1,
        "y": 0.1
       },
       "content": {
        "cell": "486fc90b-8d02-412c-806f-c8aef05d25a7",
        "part": "whole"
       },
       "id": "e20fa161-c722-4ca3-8ea7-20947207f7cf"
      }
     }
    },
    "7b178bd1-870f-47d9-b3c6-132555a398ab": {
     "id": "7b178bd1-870f-47d9-b3c6-132555a398ab",
     "prev": "2a15e7a5-0148-4931-92a4-c6ef8a7aab7c",
     "regions": {
      "ce17f210-e7f9-4bca-98fb-6c49b5e126ac": {
       "attrs": {
        "height": 0.8,
        "width": 0.8,
        "x": 0.1,
        "y": 0.1
       },
       "content": {
        "cell": "59c35b62-914e-41b0-8ab4-a11fb6cd1ab0",
        "part": "whole"
       },
       "id": "ce17f210-e7f9-4bca-98fb-6c49b5e126ac"
      }
     }
    },
    "7ceec031-4d1d-4ba5-8a1b-870c331a7e2e": {
     "id": "7ceec031-4d1d-4ba5-8a1b-870c331a7e2e",
     "prev": "8be33bac-cd18-4ace-83c3-01121cf697b6",
     "regions": {
      "7a45f57d-5b4c-4452-aaaa-84d512881252": {
       "attrs": {
        "height": 0.8,
        "width": 0.8,
        "x": 0.1,
        "y": 0.1
       },
       "content": {
        "cell": "ce562529-31eb-45e8-b1ae-97e2b19e5433",
        "part": "whole"
       },
       "id": "7a45f57d-5b4c-4452-aaaa-84d512881252"
      }
     }
    },
    "7dd0a2f6-dcc6-4ca9-89b4-63a1f74b671b": {
     "id": "7dd0a2f6-dcc6-4ca9-89b4-63a1f74b671b",
     "prev": "af790f2a-2dcd-4f1d-8dfc-f0c49a080a3f",
     "regions": {
      "95f49b6b-456e-46e1-b446-222094e20804": {
       "attrs": {
        "height": 0.8,
        "width": 0.8,
        "x": 0.1,
        "y": 0.1
       },
       "content": {
        "cell": "aeaa4553-a93c-4231-a9ab-ba14ba34453a",
        "part": "whole"
       },
       "id": "95f49b6b-456e-46e1-b446-222094e20804"
      }
     }
    },
    "86bfc748-556e-416e-8233-2009ae0afe0d": {
     "id": "86bfc748-556e-416e-8233-2009ae0afe0d",
     "prev": "fb592289-0fee-497c-a5da-039c3a14ea83",
     "regions": {
      "316f1ed7-7d95-4381-90db-ca714697b600": {
       "attrs": {
        "height": 0.8,
        "width": 0.8,
        "x": 0.1,
        "y": 0.1
       },
       "content": {
        "cell": "e346f888-90d1-4f78-a2d0-043d90fe1ab3",
        "part": "whole"
       },
       "id": "316f1ed7-7d95-4381-90db-ca714697b600"
      }
     }
    },
    "8877798f-c3cc-4cb9-a874-388f3d9e06df": {
     "id": "8877798f-c3cc-4cb9-a874-388f3d9e06df",
     "prev": "4c2f58c0-0b58-4838-b26e-fe316f41041d",
     "regions": {
      "5ff106a8-de8d-4ea9-aaa2-71e876ba7080": {
       "attrs": {
        "height": 0.8,
        "width": 0.8,
        "x": 0.1,
        "y": 0.1
       },
       "content": {
        "cell": "68530524-1b09-46ca-8dae-97c0a26992bd",
        "part": "whole"
       },
       "id": "5ff106a8-de8d-4ea9-aaa2-71e876ba7080"
      }
     }
    },
    "8b01c9de-a308-4293-a4c6-66df392f527b": {
     "id": "8b01c9de-a308-4293-a4c6-66df392f527b",
     "prev": "f69ab917-41e8-4551-a3d5-e11325eee198",
     "regions": {
      "c5ea31e6-5e51-4c4c-b9e3-41baf2b907da": {
       "attrs": {
        "height": 0.8,
        "width": 0.8,
        "x": 0.1,
        "y": 0.1
       },
       "content": {
        "cell": "99d49b6b-d9dc-4944-86e6-642f64ff6e67",
        "part": "whole"
       },
       "id": "c5ea31e6-5e51-4c4c-b9e3-41baf2b907da"
      }
     }
    },
    "8be33bac-cd18-4ace-83c3-01121cf697b6": {
     "id": "8be33bac-cd18-4ace-83c3-01121cf697b6",
     "prev": "e10d6f0c-5e5e-4938-b235-a0fc9b79db59",
     "regions": {
      "1fb78868-dc09-44b3-bedd-925a323c2e3c": {
       "attrs": {
        "height": 0.8,
        "width": 0.8,
        "x": 0.1,
        "y": 0.1
       },
       "content": {
        "cell": "4a1fe884-f453-426d-8398-32fdb31ab822",
        "part": "whole"
       },
       "id": "1fb78868-dc09-44b3-bedd-925a323c2e3c"
      }
     }
    },
    "8d0ef45f-3fee-47db-b4b2-1d995e944efc": {
     "id": "8d0ef45f-3fee-47db-b4b2-1d995e944efc",
     "prev": "50a66601-f076-446d-83bc-9eee3b08f2ab",
     "regions": {
      "8f0c99ba-c6ac-4320-9913-fb769bbf0f35": {
       "attrs": {
        "height": 0.8,
        "width": 0.8,
        "x": 0.1,
        "y": 0.1
       },
       "content": {
        "cell": "89e87b6b-e071-4d3e-be70-abfba498d3dc",
        "part": "whole"
       },
       "id": "8f0c99ba-c6ac-4320-9913-fb769bbf0f35"
      }
     }
    },
    "8dd2becc-8895-4430-a3e5-5e71d2ba6d5e": {
     "id": "8dd2becc-8895-4430-a3e5-5e71d2ba6d5e",
     "prev": "dc98dc81-e4b7-4300-bddd-5eae835ed3aa",
     "regions": {
      "d1fcd693-4bed-42b0-a2ce-44ed73a56e21": {
       "attrs": {
        "height": 0.8,
        "width": 0.8,
        "x": 0.1,
        "y": 0.1
       },
       "content": {
        "cell": "3507b962-4316-44d5-a640-ef0f2c464719",
        "part": "whole"
       },
       "id": "d1fcd693-4bed-42b0-a2ce-44ed73a56e21"
      }
     }
    },
    "8e223579-4f25-4e17-8fcd-763c34250bf3": {
     "id": "8e223579-4f25-4e17-8fcd-763c34250bf3",
     "prev": "e85336b2-21fd-42ae-a1ba-5166212633c5",
     "regions": {
      "4b7e42a6-fb79-4979-a72e-1d823bc95437": {
       "attrs": {
        "height": 0.8,
        "width": 0.8,
        "x": 0.1,
        "y": 0.1
       },
       "content": {
        "cell": "b20cc52d-7610-4d63-8621-b097e8f138cb",
        "part": "whole"
       },
       "id": "4b7e42a6-fb79-4979-a72e-1d823bc95437"
      }
     }
    },
    "938fcc93-a662-4b90-9fdc-1881ba29c7e5": {
     "id": "938fcc93-a662-4b90-9fdc-1881ba29c7e5",
     "prev": "3586b75d-a24e-43a6-aa1e-12287132d034",
     "regions": {
      "c07318a3-616f-4a80-96f4-4c6ee9e49f6c": {
       "attrs": {
        "height": 0.8,
        "width": 0.8,
        "x": 0.1,
        "y": 0.1
       },
       "content": {
        "cell": "1ff525fd-c41e-48b4-b168-aeb76cc31bb2",
        "part": "whole"
       },
       "id": "c07318a3-616f-4a80-96f4-4c6ee9e49f6c"
      }
     }
    },
    "974d6545-aec5-4ca5-9c92-cb42300d8347": {
     "id": "974d6545-aec5-4ca5-9c92-cb42300d8347",
     "prev": "8d0ef45f-3fee-47db-b4b2-1d995e944efc",
     "regions": {
      "af5076cb-470e-470c-8d86-3a3f668534f6": {
       "attrs": {
        "height": 0.8,
        "width": 0.8,
        "x": 0.1,
        "y": 0.1
       },
       "content": {
        "cell": "da90c760-cf1d-4469-88c7-862de4303f00",
        "part": "whole"
       },
       "id": "af5076cb-470e-470c-8d86-3a3f668534f6"
      }
     }
    },
    "a079a416-2249-4452-bbcd-9bc9fdf09f6f": {
     "id": "a079a416-2249-4452-bbcd-9bc9fdf09f6f",
     "prev": "61bd5f52-bbcb-43f6-b157-683cb65f6b92",
     "regions": {
      "596deae0-0999-4f83-ae5d-a5a7a4f12276": {
       "attrs": {
        "height": 0.8,
        "width": 0.8,
        "x": 0.1,
        "y": 0.1
       },
       "content": {
        "cell": "a7426b9f-44f5-40db-998f-47c08e12631a",
        "part": "whole"
       },
       "id": "596deae0-0999-4f83-ae5d-a5a7a4f12276"
      }
     }
    },
    "a30f0c9d-67ab-42b2-8dd3-f5a25f4d3412": {
     "id": "a30f0c9d-67ab-42b2-8dd3-f5a25f4d3412",
     "prev": null,
     "regions": {
      "d592baed-23a7-455f-9b15-f7b2574d7f0f": {
       "attrs": {
        "height": 0.8,
        "width": 0.8,
        "x": 0.1,
        "y": 0.1
       },
       "content": {
        "cell": "cc0e8752-ef77-4c2a-a85f-06cad83c75f8",
        "part": "whole"
       },
       "id": "d592baed-23a7-455f-9b15-f7b2574d7f0f"
      }
     }
    },
    "a3eaf33d-ddd5-4f43-b5bd-6c3115a4942d": {
     "id": "a3eaf33d-ddd5-4f43-b5bd-6c3115a4942d",
     "prev": "3c0f97bc-8bd2-4e31-a8d5-d0fc7c8b142f",
     "regions": {
      "0a64a1ad-d186-44a1-8610-caccf8d35e85": {
       "attrs": {
        "height": 0.8,
        "width": 0.8,
        "x": 0.1,
        "y": 0.1
       },
       "content": {
        "cell": "72a315bd-88e9-4439-a1de-84f059f2a113",
        "part": "whole"
       },
       "id": "0a64a1ad-d186-44a1-8610-caccf8d35e85"
      }
     }
    },
    "a6654632-fc16-41a6-9e64-bc70ca7d8e2e": {
     "id": "a6654632-fc16-41a6-9e64-bc70ca7d8e2e",
     "prev": "74ff851a-f987-4b65-bbe5-5025953fba65",
     "regions": {
      "ab1da521-5d0b-4cb4-832a-bab57cd695cc": {
       "attrs": {
        "height": 0.8,
        "width": 0.8,
        "x": 0.1,
        "y": 0.1
       },
       "content": {
        "cell": "0d568570-8e5c-41b2-8196-27b626b97307",
        "part": "whole"
       },
       "id": "ab1da521-5d0b-4cb4-832a-bab57cd695cc"
      }
     }
    },
    "a76f3e51-b3c5-42b0-a47c-428c2262c17f": {
     "id": "a76f3e51-b3c5-42b0-a47c-428c2262c17f",
     "prev": "fedabc29-e6d2-47b5-a6e9-3d1165aa7845",
     "regions": {
      "29ab620d-80fc-4b97-a6f8-3468ccaf26cb": {
       "attrs": {
        "height": 0.8,
        "width": 0.8,
        "x": 0.1,
        "y": 0.1
       },
       "content": {
        "cell": "d2d214b2-a977-4c48-bc4b-6b8000858197",
        "part": "whole"
       },
       "id": "29ab620d-80fc-4b97-a6f8-3468ccaf26cb"
      }
     }
    },
    "a80411a9-d656-4e72-9624-87bfcdd4bb9c": {
     "id": "a80411a9-d656-4e72-9624-87bfcdd4bb9c",
     "prev": "7177d7a3-4f7d-4f9f-8ca5-bb812c4f532e",
     "regions": {
      "2ae67d62-eca3-46ef-b52f-e23036e05cc7": {
       "attrs": {
        "height": 0.8,
        "width": 0.8,
        "x": 0.1,
        "y": 0.1
       },
       "content": {
        "cell": "496b064b-6f12-4f65-86bb-9aa764b3c857",
        "part": "whole"
       },
       "id": "2ae67d62-eca3-46ef-b52f-e23036e05cc7"
      }
     }
    },
    "aba56cb8-65f7-4ec1-a4fa-096a4a8b4f4a": {
     "id": "aba56cb8-65f7-4ec1-a4fa-096a4a8b4f4a",
     "prev": "39475adb-3914-48c9-8d05-20e414bd8783",
     "regions": {
      "981faa08-a4a8-41e0-8b4b-e27efa8dea29": {
       "attrs": {
        "height": 0.8,
        "width": 0.8,
        "x": 0.1,
        "y": 0.1
       },
       "content": {
        "cell": "73f3d057-6301-40ab-9b6a-16ec66936383",
        "part": "whole"
       },
       "id": "981faa08-a4a8-41e0-8b4b-e27efa8dea29"
      }
     }
    },
    "af790f2a-2dcd-4f1d-8dfc-f0c49a080a3f": {
     "id": "af790f2a-2dcd-4f1d-8dfc-f0c49a080a3f",
     "prev": "f5c34511-3e5f-4b00-8e89-78126ad4b115",
     "regions": {
      "28da7074-59f7-4e9b-86d4-12fb6917162e": {
       "attrs": {
        "height": 0.8,
        "width": 0.8,
        "x": 0.1,
        "y": 0.1
       },
       "content": {
        "cell": "cb740860-63bd-4bfa-a0a9-6bf27ef5ff52",
        "part": "whole"
       },
       "id": "28da7074-59f7-4e9b-86d4-12fb6917162e"
      }
     }
    },
    "af862f98-d36c-47c7-ae30-4874744f8ce0": {
     "id": "af862f98-d36c-47c7-ae30-4874744f8ce0",
     "prev": "aba56cb8-65f7-4ec1-a4fa-096a4a8b4f4a",
     "regions": {
      "17974ac3-460c-4548-b5f0-4927dffe56c7": {
       "attrs": {
        "height": 0.8,
        "width": 0.8,
        "x": 0.1,
        "y": 0.1
       },
       "content": {
        "cell": "939a21e0-6e30-4a1f-a7c2-4131849c699c",
        "part": "whole"
       },
       "id": "17974ac3-460c-4548-b5f0-4927dffe56c7"
      }
     }
    },
    "bd6ec894-de88-432b-b48a-b2da152180d9": {
     "id": "bd6ec894-de88-432b-b48a-b2da152180d9",
     "prev": "a30f0c9d-67ab-42b2-8dd3-f5a25f4d3412",
     "regions": {
      "c30cef55-2394-4884-9e0c-fe88917bede6": {
       "attrs": {
        "height": 0.8,
        "width": 0.8,
        "x": 0.1,
        "y": 0.1
       },
       "content": {
        "cell": "487dcd59-a299-45a1-b5f1-faa979bed68e",
        "part": "whole"
       },
       "id": "c30cef55-2394-4884-9e0c-fe88917bede6"
      }
     }
    },
    "bf878646-b6df-4e7d-9717-bebfadf3eb1f": {
     "id": "bf878646-b6df-4e7d-9717-bebfadf3eb1f",
     "prev": "d05ee3de-fd9b-49b0-83ac-aa35dbdf9b45",
     "regions": {
      "f9b9480c-ae81-4096-ab3e-7f408e1a14ad": {
       "attrs": {
        "height": 0.8,
        "width": 0.8,
        "x": 0.1,
        "y": 0.1
       },
       "content": {
        "cell": "1a7e46c7-26f9-4f5d-b4bd-136a57b12b95",
        "part": "whole"
       },
       "id": "f9b9480c-ae81-4096-ab3e-7f408e1a14ad"
      }
     }
    },
    "c4961315-1136-424d-a02e-713984e14bb6": {
     "id": "c4961315-1136-424d-a02e-713984e14bb6",
     "prev": "cfbedd69-28fa-4866-aa7d-053cebfc8f64",
     "regions": {
      "14e8d840-feb7-4947-9346-af29deb032f7": {
       "attrs": {
        "height": 0.8,
        "width": 0.8,
        "x": 0.1,
        "y": 0.1
       },
       "content": {
        "cell": "ceff14ca-6ef2-4585-95f7-d30f559fe66e",
        "part": "whole"
       },
       "id": "14e8d840-feb7-4947-9346-af29deb032f7"
      }
     }
    },
    "c5d02907-187d-453a-bb36-b98954c07d0f": {
     "id": "c5d02907-187d-453a-bb36-b98954c07d0f",
     "prev": "8dd2becc-8895-4430-a3e5-5e71d2ba6d5e",
     "regions": {
      "7b221e41-b076-4698-9fda-02a50a0cb6aa": {
       "attrs": {
        "height": 0.8,
        "width": 0.8,
        "x": 0.1,
        "y": 0.1
       },
       "content": {
        "cell": "6df58a7f-ff65-4b16-8330-d47bbafcc4f3",
        "part": "whole"
       },
       "id": "7b221e41-b076-4698-9fda-02a50a0cb6aa"
      }
     }
    },
    "c82d65b2-4040-47f7-8157-6051f7dfcbc6": {
     "id": "c82d65b2-4040-47f7-8157-6051f7dfcbc6",
     "prev": "e1e246a6-7d2f-4a7e-b477-8451f98f55b8",
     "regions": {
      "7e3528cb-656f-451d-9fbb-1544b62ac6d5": {
       "attrs": {
        "height": 0.8,
        "width": 0.8,
        "x": 0.1,
        "y": 0.1
       },
       "content": {
        "cell": "f5a84a06-5261-407b-ad54-3eec1ea965c0",
        "part": "whole"
       },
       "id": "7e3528cb-656f-451d-9fbb-1544b62ac6d5"
      }
     }
    },
    "cfbedd69-28fa-4866-aa7d-053cebfc8f64": {
     "id": "cfbedd69-28fa-4866-aa7d-053cebfc8f64",
     "prev": "664a007d-fc4b-47b2-bf6e-d19ea479f6ac",
     "regions": {
      "a6acf0aa-18d1-4513-ae00-78b1a7c4d5b5": {
       "attrs": {
        "height": 0.8,
        "width": 0.8,
        "x": 0.1,
        "y": 0.1
       },
       "content": {
        "cell": "06678d45-1241-4e0b-a579-325079587058",
        "part": "whole"
       },
       "id": "a6acf0aa-18d1-4513-ae00-78b1a7c4d5b5"
      }
     }
    },
    "d05ee3de-fd9b-49b0-83ac-aa35dbdf9b45": {
     "id": "d05ee3de-fd9b-49b0-83ac-aa35dbdf9b45",
     "prev": "3eb339be-c037-4d52-a7f8-9bf4dd812fb2",
     "regions": {
      "873fa4bb-376f-4a32-8c6d-40c09289bb7c": {
       "attrs": {
        "height": 0.8,
        "width": 0.8,
        "x": 0.1,
        "y": 0.1
       },
       "content": {
        "cell": "24815ff4-8bf4-4b36-9126-a648a7df7800",
        "part": "whole"
       },
       "id": "873fa4bb-376f-4a32-8c6d-40c09289bb7c"
      }
     }
    },
    "d30854d1-453d-43fb-b08c-eb55c2247c97": {
     "id": "d30854d1-453d-43fb-b08c-eb55c2247c97",
     "prev": "446bf9d0-7578-45b4-b5d3-792369c87432",
     "regions": {
      "ecc0e549-5bc5-4835-83d4-26514f2cf2de": {
       "attrs": {
        "height": 0.8,
        "width": 0.8,
        "x": 0.1,
        "y": 0.1
       },
       "content": {
        "cell": "85ad2650-d0f4-4967-9ad1-c4b314a12ee1",
        "part": "whole"
       },
       "id": "ecc0e549-5bc5-4835-83d4-26514f2cf2de"
      }
     }
    },
    "d3d28f87-9c3b-4508-8a80-e6288ea1bb39": {
     "id": "d3d28f87-9c3b-4508-8a80-e6288ea1bb39",
     "prev": "e96cb282-5581-44a5-9793-2be4e33ade58",
     "regions": {
      "55845761-917d-4524-a4eb-a83fb48253c3": {
       "attrs": {
        "height": 0.8,
        "width": 0.8,
        "x": 0.1,
        "y": 0.1
       },
       "content": {
        "cell": "6bef8831-62ad-425c-b840-d60b092571e4",
        "part": "whole"
       },
       "id": "55845761-917d-4524-a4eb-a83fb48253c3"
      }
     }
    },
    "d539cabc-fcb0-44d1-8cef-a98167017b05": {
     "id": "d539cabc-fcb0-44d1-8cef-a98167017b05",
     "prev": "a80411a9-d656-4e72-9624-87bfcdd4bb9c",
     "regions": {
      "be1fe8b8-5b09-438e-85d1-ef255be2bbb3": {
       "attrs": {
        "height": 0.8,
        "width": 0.8,
        "x": 0.1,
        "y": 0.1
       },
       "content": {
        "cell": "cdf961a5-a7a0-4546-88f4-3ca30d43f922",
        "part": "whole"
       },
       "id": "be1fe8b8-5b09-438e-85d1-ef255be2bbb3"
      }
     }
    },
    "dc98dc81-e4b7-4300-bddd-5eae835ed3aa": {
     "id": "dc98dc81-e4b7-4300-bddd-5eae835ed3aa",
     "prev": "70990971-af35-4e84-85c7-88b5caafdada",
     "regions": {
      "c88c6412-9cf5-4c76-8bda-5c33dd4c21fb": {
       "attrs": {
        "height": 0.8,
        "width": 0.8,
        "x": 0.1,
        "y": 0.1
       },
       "content": {
        "cell": "0fd58901-b675-4927-ae81-ba6d05d10336",
        "part": "whole"
       },
       "id": "c88c6412-9cf5-4c76-8bda-5c33dd4c21fb"
      }
     }
    },
    "e10d6f0c-5e5e-4938-b235-a0fc9b79db59": {
     "id": "e10d6f0c-5e5e-4938-b235-a0fc9b79db59",
     "prev": "a6654632-fc16-41a6-9e64-bc70ca7d8e2e",
     "regions": {
      "0a96e63a-a87f-48a5-bbdf-deb19a1c6618": {
       "attrs": {
        "height": 0.8,
        "width": 0.8,
        "x": 0.1,
        "y": 0.1
       },
       "content": {
        "cell": "a26779cf-c547-4cbf-9344-45a507769a72",
        "part": "whole"
       },
       "id": "0a96e63a-a87f-48a5-bbdf-deb19a1c6618"
      }
     }
    },
    "e1e246a6-7d2f-4a7e-b477-8451f98f55b8": {
     "id": "e1e246a6-7d2f-4a7e-b477-8451f98f55b8",
     "prev": "4f6586d4-4f74-4e2f-add1-20e6fb567de6",
     "regions": {
      "8e4cbe39-e34a-457d-b10b-a2e1250ab2e4": {
       "attrs": {
        "height": 0.8,
        "width": 0.8,
        "x": 0.1,
        "y": 0.1
       },
       "content": {
        "cell": "01c3610f-757b-4671-a821-80e1846bb2e7",
        "part": "whole"
       },
       "id": "8e4cbe39-e34a-457d-b10b-a2e1250ab2e4"
      }
     }
    },
    "e2e0885a-3d62-4483-adfc-62eb624cc985": {
     "id": "e2e0885a-3d62-4483-adfc-62eb624cc985",
     "prev": "7dd0a2f6-dcc6-4ca9-89b4-63a1f74b671b",
     "regions": {
      "e2ac1f20-b93d-456d-be19-6cc1ed55f99a": {
       "attrs": {
        "height": 0.8,
        "width": 0.8,
        "x": 0.1,
        "y": 0.1
       },
       "content": {
        "cell": "9c141f87-c134-45f9-838b-eac5e72bdf0b",
        "part": "whole"
       },
       "id": "e2ac1f20-b93d-456d-be19-6cc1ed55f99a"
      }
     }
    },
    "e85336b2-21fd-42ae-a1ba-5166212633c5": {
     "id": "e85336b2-21fd-42ae-a1ba-5166212633c5",
     "prev": "c82d65b2-4040-47f7-8157-6051f7dfcbc6",
     "regions": {
      "c75929b0-eeae-44a5-9401-4a69e96650ff": {
       "attrs": {
        "height": 0.8,
        "width": 0.8,
        "x": 0.1,
        "y": 0.1
       },
       "content": {
        "cell": "7ac43dc8-3ca1-4467-a5d1-91118c3270c7",
        "part": "whole"
       },
       "id": "c75929b0-eeae-44a5-9401-4a69e96650ff"
      }
     }
    },
    "e96cb282-5581-44a5-9793-2be4e33ade58": {
     "id": "e96cb282-5581-44a5-9793-2be4e33ade58",
     "prev": "ec61484d-a4ef-46a0-bb96-489c163654bb",
     "regions": {
      "cdf10309-6642-4603-9290-9f884f39d555": {
       "attrs": {
        "height": 0.8,
        "width": 0.8,
        "x": 0.1,
        "y": 0.1
       },
       "content": {
        "cell": "e8ade09e-591c-47ed-8fdc-445ce00c46aa",
        "part": "whole"
       },
       "id": "cdf10309-6642-4603-9290-9f884f39d555"
      }
     }
    },
    "ea696e7a-2b8e-43cc-abc4-d734f365f493": {
     "id": "ea696e7a-2b8e-43cc-abc4-d734f365f493",
     "prev": "d30854d1-453d-43fb-b08c-eb55c2247c97",
     "regions": {
      "16958e3f-09b2-49d5-861b-1cfd2d869410": {
       "attrs": {
        "height": 0.8,
        "width": 0.8,
        "x": 0.1,
        "y": 0.1
       },
       "content": {
        "cell": "21617de9-afd2-4b61-97d1-b4271745da41",
        "part": "whole"
       },
       "id": "16958e3f-09b2-49d5-861b-1cfd2d869410"
      }
     }
    },
    "ec61484d-a4ef-46a0-bb96-489c163654bb": {
     "id": "ec61484d-a4ef-46a0-bb96-489c163654bb",
     "prev": "e2e0885a-3d62-4483-adfc-62eb624cc985",
     "regions": {
      "c851bfaa-1615-4f91-9143-58ea12488a06": {
       "attrs": {
        "height": 0.8,
        "width": 0.8,
        "x": 0.1,
        "y": 0.1
       },
       "content": {
        "cell": "44a04ff1-a9f5-4b32-b195-be53e3bd83bb",
        "part": "whole"
       },
       "id": "c851bfaa-1615-4f91-9143-58ea12488a06"
      }
     }
    },
    "eeb9ae84-c104-4126-9710-90c3f7873149": {
     "id": "eeb9ae84-c104-4126-9710-90c3f7873149",
     "prev": "11427219-0dad-47fe-bbc1-6b2cece3cb91",
     "regions": {
      "3fc93033-5a6d-4242-a13e-fc435087af1c": {
       "attrs": {
        "height": 0.8,
        "width": 0.8,
        "x": 0.1,
        "y": 0.1
       },
       "content": {
        "cell": "037a4d9d-25cc-44d8-9a90-ebcb9b4b4883",
        "part": "whole"
       },
       "id": "3fc93033-5a6d-4242-a13e-fc435087af1c"
      }
     }
    },
    "efaaee7d-2bf4-4c02-9f02-011184a5e62c": {
     "id": "efaaee7d-2bf4-4c02-9f02-011184a5e62c",
     "prev": "f03ae19d-fdf2-444b-bff1-14dd7bdd62dc",
     "regions": {
      "5334fceb-1fc4-42e6-a410-47a90e3d3c8d": {
       "attrs": {
        "height": 0.8,
        "width": 0.8,
        "x": 0.1,
        "y": 0.1
       },
       "content": {
        "cell": "93c987c9-0ea1-4420-96ef-3d6453f445c1",
        "part": "whole"
       },
       "id": "5334fceb-1fc4-42e6-a410-47a90e3d3c8d"
      }
     }
    },
    "f004b5cd-a300-43a8-8d00-730279849419": {
     "id": "f004b5cd-a300-43a8-8d00-730279849419",
     "prev": "192830e6-0873-44a8-baa0-16d0aa1a273f",
     "regions": {
      "a0fe038a-2aea-4a38-be08-84a082f65724": {
       "attrs": {
        "height": 0.8,
        "width": 0.8,
        "x": 0.1,
        "y": 0.1
       },
       "content": {
        "cell": "359f23e1-4619-4177-a447-695cf538b5be",
        "part": "whole"
       },
       "id": "a0fe038a-2aea-4a38-be08-84a082f65724"
      }
     }
    },
    "f0197e47-49c1-48e3-96de-6f9ecc555fd7": {
     "id": "f0197e47-49c1-48e3-96de-6f9ecc555fd7",
     "prev": "fb5fa046-eb15-49ff-9c99-b2feb8dbc291",
     "regions": {
      "db16344a-6f0c-4435-a238-f33f2e3c72a7": {
       "attrs": {
        "height": 0.8,
        "width": 0.8,
        "x": 0.1,
        "y": 0.1
       },
       "content": {
        "cell": "f3cabdac-6494-449d-a6b5-94735e32467b",
        "part": "whole"
       },
       "id": "db16344a-6f0c-4435-a238-f33f2e3c72a7"
      }
     }
    },
    "f03ae19d-fdf2-444b-bff1-14dd7bdd62dc": {
     "id": "f03ae19d-fdf2-444b-bff1-14dd7bdd62dc",
     "prev": "3b47544d-8d76-4511-85a5-5bfbd3704288",
     "regions": {
      "6d61b0e1-4dd5-4535-b026-f790a40b11c0": {
       "attrs": {
        "height": 0.8,
        "width": 0.8,
        "x": 0.1,
        "y": 0.1
       },
       "content": {
        "cell": "fc19ed99-cbde-44ac-af99-b039c8f1d211",
        "part": "whole"
       },
       "id": "6d61b0e1-4dd5-4535-b026-f790a40b11c0"
      }
     }
    },
    "f08f0793-b971-4fe7-876d-5a6c30475271": {
     "id": "f08f0793-b971-4fe7-876d-5a6c30475271",
     "prev": "2028498a-14da-460b-908f-7413b704caa4",
     "regions": {
      "398332f3-231a-47b5-b742-db70a99956c5": {
       "attrs": {
        "height": 0.8,
        "width": 0.8,
        "x": 0.1,
        "y": 0.1
       },
       "content": {
        "cell": "8302fcd6-c0a4-43b7-b863-e7b13ff1e32b",
        "part": "whole"
       },
       "id": "398332f3-231a-47b5-b742-db70a99956c5"
      }
     }
    },
    "f5c34511-3e5f-4b00-8e89-78126ad4b115": {
     "id": "f5c34511-3e5f-4b00-8e89-78126ad4b115",
     "prev": "f9eff1e5-4b33-4604-8b32-ee01e1ec7553",
     "regions": {
      "2bd1166c-282b-4064-889d-ba0814a04e50": {
       "attrs": {
        "height": 0.8,
        "width": 0.8,
        "x": 0.1,
        "y": 0.1
       },
       "content": {
        "cell": "686f4fcf-3240-432b-b3ea-b2b1b14cdd50",
        "part": "whole"
       },
       "id": "2bd1166c-282b-4064-889d-ba0814a04e50"
      }
     }
    },
    "f69ab917-41e8-4551-a3d5-e11325eee198": {
     "id": "f69ab917-41e8-4551-a3d5-e11325eee198",
     "prev": "974d6545-aec5-4ca5-9c92-cb42300d8347",
     "regions": {
      "40387968-1d5f-467f-af8d-0513e94f5409": {
       "attrs": {
        "height": 0.8,
        "width": 0.8,
        "x": 0.1,
        "y": 0.1
       },
       "content": {
        "cell": "55a93f2b-65ef-4d0e-9e00-4959da2c5cd4",
        "part": "whole"
       },
       "id": "40387968-1d5f-467f-af8d-0513e94f5409"
      }
     }
    },
    "f88a8289-c2bd-4417-b796-4f06333f00e6": {
     "id": "f88a8289-c2bd-4417-b796-4f06333f00e6",
     "prev": "5492a653-f01b-455f-a89b-05c34a09cbd0",
     "regions": {
      "a7d36602-3140-4839-b5c0-f8969fce381a": {
       "attrs": {
        "height": 0.8,
        "width": 0.8,
        "x": 0.1,
        "y": 0.1
       },
       "content": {
        "cell": "fa420a43-d93a-4fd8-942a-24c09f42b2a4",
        "part": "whole"
       },
       "id": "a7d36602-3140-4839-b5c0-f8969fce381a"
      }
     }
    },
    "f9eff1e5-4b33-4604-8b32-ee01e1ec7553": {
     "id": "f9eff1e5-4b33-4604-8b32-ee01e1ec7553",
     "prev": "18d44387-63c9-4fed-a52b-df9c01ae3049",
     "regions": {
      "f7e7230f-1312-455b-8e77-428d2db78302": {
       "attrs": {
        "height": 0.8,
        "width": 0.8,
        "x": 0.1,
        "y": 0.1
       },
       "content": {
        "cell": "d6839af8-4971-4814-9a0e-b4b723ba1f1e",
        "part": "whole"
       },
       "id": "f7e7230f-1312-455b-8e77-428d2db78302"
      }
     }
    },
    "fb592289-0fee-497c-a5da-039c3a14ea83": {
     "id": "fb592289-0fee-497c-a5da-039c3a14ea83",
     "prev": "20ccff14-3cbb-4fcf-9924-4cd2b7e46009",
     "regions": {
      "2c670c66-0b30-49f9-b480-b61f9971147f": {
       "attrs": {
        "height": 0.8,
        "width": 0.8,
        "x": 0.1,
        "y": 0.1
       },
       "content": {
        "cell": "33e1bb23-11ad-4cd5-9baa-004209e13edf",
        "part": "whole"
       },
       "id": "2c670c66-0b30-49f9-b480-b61f9971147f"
      }
     }
    },
    "fb5fa046-eb15-49ff-9c99-b2feb8dbc291": {
     "id": "fb5fa046-eb15-49ff-9c99-b2feb8dbc291",
     "prev": "1bfd1080-225c-4c12-9d67-37c07ee27883",
     "regions": {
      "cc99c631-a473-4f5a-82b2-fdc55de99a55": {
       "attrs": {
        "height": 0.8,
        "width": 0.8,
        "x": 0.1,
        "y": 0.1
       },
       "content": {
        "cell": "21fefa12-a763-42cf-80b1-93e89a8ccf6a",
        "part": "whole"
       },
       "id": "cc99c631-a473-4f5a-82b2-fdc55de99a55"
      }
     }
    },
    "fedabc29-e6d2-47b5-a6e9-3d1165aa7845": {
     "id": "fedabc29-e6d2-47b5-a6e9-3d1165aa7845",
     "prev": "23fcd6fd-4047-434a-b316-16bcab4be6fd",
     "regions": {
      "3ffb199f-7cba-452b-a5e0-92ffffd58290": {
       "attrs": {
        "height": 0.8,
        "width": 0.8,
        "x": 0.1,
        "y": 0.1
       },
       "content": {
        "cell": "0484c62b-b7ee-4fd4-8a8c-ef83ad49e546",
        "part": "whole"
       },
       "id": "3ffb199f-7cba-452b-a5e0-92ffffd58290"
      }
     }
    }
   },
   "themes": {
    "default": "e8646185-7bf4-4a01-a940-b5bad67447e1",
    "theme": {
     "6ea2de17-2f70-41c5-bdad-543e8061b2c4": {
      "id": "6ea2de17-2f70-41c5-bdad-543e8061b2c4",
      "palette": {
       "19cc588f-0593-49c9-9f4b-e4d7cc113b1c": {
        "id": "19cc588f-0593-49c9-9f4b-e4d7cc113b1c",
        "rgb": [
         252,
         252,
         252
        ]
       },
       "31af15d2-7e15-44c5-ab5e-e04b16a89eff": {
        "id": "31af15d2-7e15-44c5-ab5e-e04b16a89eff",
        "rgb": [
         68,
         68,
         68
        ]
       },
       "50f92c45-a630-455b-aec3-788680ec7410": {
        "id": "50f92c45-a630-455b-aec3-788680ec7410",
        "rgb": [
         155,
         177,
         192
        ]
       },
       "c5cc3653-2ee1-402a-aba2-7caae1da4f6c": {
        "id": "c5cc3653-2ee1-402a-aba2-7caae1da4f6c",
        "rgb": [
         43,
         126,
         184
        ]
       },
       "efa7f048-9acb-414c-8b04-a26811511a21": {
        "id": "efa7f048-9acb-414c-8b04-a26811511a21",
        "rgb": [
         25.118061674008803,
         73.60176211453744,
         107.4819383259912
        ]
       }
      },
      "rules": {
       "blockquote": {
        "color": "50f92c45-a630-455b-aec3-788680ec7410"
       },
       "code": {
        "font-family": "Anonymous Pro"
       },
       "h1": {
        "color": "c5cc3653-2ee1-402a-aba2-7caae1da4f6c",
        "font-family": "Lato",
        "font-size": 8
       },
       "h2": {
        "color": "c5cc3653-2ee1-402a-aba2-7caae1da4f6c",
        "font-family": "Lato",
        "font-size": 6
       },
       "h3": {
        "color": "50f92c45-a630-455b-aec3-788680ec7410",
        "font-family": "Lato",
        "font-size": 5.5
       },
       "h4": {
        "color": "c5cc3653-2ee1-402a-aba2-7caae1da4f6c",
        "font-family": "Lato",
        "font-size": 5
       },
       "h5": {
        "font-family": "Lato"
       },
       "h6": {
        "font-family": "Lato"
       },
       "h7": {
        "font-family": "Lato"
       },
       "pre": {
        "font-family": "Anonymous Pro",
        "font-size": 4
       }
      },
      "text-base": {
       "font-family": "Merriweather",
       "font-size": 4
      }
     },
     "e8646185-7bf4-4a01-a940-b5bad67447e1": {
      "backgrounds": {
       "dc7afa04-bf90-40b1-82a5-726e3cff5267": {
        "background-color": "31af15d2-7e15-44c5-ab5e-e04b16a89eff",
        "id": "dc7afa04-bf90-40b1-82a5-726e3cff5267"
       }
      },
      "id": "e8646185-7bf4-4a01-a940-b5bad67447e1",
      "palette": {
       "19cc588f-0593-49c9-9f4b-e4d7cc113b1c": {
        "id": "19cc588f-0593-49c9-9f4b-e4d7cc113b1c",
        "rgb": [
         252,
         252,
         252
        ]
       },
       "31af15d2-7e15-44c5-ab5e-e04b16a89eff": {
        "id": "31af15d2-7e15-44c5-ab5e-e04b16a89eff",
        "rgb": [
         68,
         68,
         68
        ]
       },
       "50f92c45-a630-455b-aec3-788680ec7410": {
        "id": "50f92c45-a630-455b-aec3-788680ec7410",
        "rgb": [
         197,
         226,
         245
        ]
       },
       "c5cc3653-2ee1-402a-aba2-7caae1da4f6c": {
        "id": "c5cc3653-2ee1-402a-aba2-7caae1da4f6c",
        "rgb": [
         43,
         126,
         184
        ]
       },
       "efa7f048-9acb-414c-8b04-a26811511a21": {
        "id": "efa7f048-9acb-414c-8b04-a26811511a21",
        "rgb": [
         25.118061674008803,
         73.60176211453744,
         107.4819383259912
        ]
       }
      },
      "rules": {
       "a": {
        "color": "19cc588f-0593-49c9-9f4b-e4d7cc113b1c"
       },
       "blockquote": {
        "color": "50f92c45-a630-455b-aec3-788680ec7410",
        "font-size": 3
       },
       "code": {
        "font-family": "Anonymous Pro"
       },
       "h1": {
        "color": "19cc588f-0593-49c9-9f4b-e4d7cc113b1c",
        "font-family": "Merriweather",
        "font-size": 8
       },
       "h2": {
        "color": "19cc588f-0593-49c9-9f4b-e4d7cc113b1c",
        "font-family": "Merriweather",
        "font-size": 6
       },
       "h3": {
        "color": "50f92c45-a630-455b-aec3-788680ec7410",
        "font-family": "Lato",
        "font-size": 5.5
       },
       "h4": {
        "color": "c5cc3653-2ee1-402a-aba2-7caae1da4f6c",
        "font-family": "Lato",
        "font-size": 5
       },
       "h5": {
        "font-family": "Lato"
       },
       "h6": {
        "font-family": "Lato"
       },
       "h7": {
        "font-family": "Lato"
       },
       "li": {
        "color": "50f92c45-a630-455b-aec3-788680ec7410",
        "font-size": 3.25
       },
       "pre": {
        "font-family": "Anonymous Pro",
        "font-size": 4
       }
      },
      "text-base": {
       "color": "19cc588f-0593-49c9-9f4b-e4d7cc113b1c",
       "font-family": "Lato",
       "font-size": 4
      }
     }
    }
   }
  }
 },
 "nbformat": 4,
 "nbformat_minor": 1
}
